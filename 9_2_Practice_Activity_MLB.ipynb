{
  "nbformat": 4,
  "nbformat_minor": 0,
  "metadata": {
    "colab": {
      "provenance": []
    },
    "kernelspec": {
      "name": "python3",
      "display_name": "Python 3"
    },
    "language_info": {
      "name": "python"
    }
  },
  "cells": [
    {
      "cell_type": "markdown",
      "source": [
        "\n",
        "Our dataset consists of clinical data from patients who entered the hospital complaining of chest pain (\"angina\") during exercise.  The information collected includes:\n",
        "\n",
        "* `age` : Age of the patient\n",
        "\n",
        "* `sex` : Sex of the patient\n",
        "\n",
        "* `cp` : Chest Pain type\n",
        "\n",
        "    + Value 0: asymptomatic\n",
        "    + Value 1: typical angina\n",
        "    + Value 2: atypical angina\n",
        "    + Value 3: non-anginal pain\n",
        "   \n",
        "    \n",
        "* `trtbps` : resting blood pressure (in mm Hg)\n",
        "\n",
        "* `chol` : cholesterol in mg/dl fetched via BMI sensor\n",
        "\n",
        "* `restecg` : resting electrocardiographic results\n",
        "\n",
        "    + Value 0: normal\n",
        "    + Value 1: having ST-T wave abnormality (T wave inversions and/or ST elevation or depression of > 0.05 mV)\n",
        "    + Value 2: showing probable or definite left ventricular hypertrophy by Estes' criteria\n",
        "\n",
        "* `thalach` : maximum heart rate achieved during exercise\n",
        "\n",
        "* `output` : the doctor's diagnosis of whether the patient is at risk for a heart attack\n",
        "    + 0 = not at risk of heart attack\n",
        "    + 1 = at risk of heart attack"
      ],
      "metadata": {
        "id": "P_N9XP2-04VH"
      }
    },
    {
      "cell_type": "code",
      "source": [
        "import pandas as pd\n",
        "from sklearn.pipeline import Pipeline\n",
        "from sklearn.neighbors import KNeighborsClassifier\n",
        "from sklearn.tree import DecisionTreeClassifier\n",
        "from sklearn.linear_model import LogisticRegression\n",
        "from sklearn.discriminant_analysis import LinearDiscriminantAnalysis\n",
        "from sklearn.svm import SVC\n",
        "from sklearn.metrics import accuracy_score, f1_score, precision_score, recall_score, confusion_matrix, roc_auc_score\n",
        "from sklearn.model_selection import cross_val_predict"
      ],
      "metadata": {
        "id": "tZmjmGGQ1CaN"
      },
      "execution_count": 26,
      "outputs": []
    },
    {
      "cell_type": "code",
      "source": [
        "import warnings\n",
        "warnings.filterwarnings(\"ignore\")"
      ],
      "metadata": {
        "id": "YwD_Nft-2sF0"
      },
      "execution_count": 27,
      "outputs": []
    },
    {
      "cell_type": "code",
      "execution_count": 28,
      "metadata": {
        "id": "ghXbwhv600-S",
        "colab": {
          "base_uri": "https://localhost:8080/",
          "height": 206
        },
        "outputId": "b5a72753-f5c4-4f12-a286-92dcdaca8626"
      },
      "outputs": [
        {
          "output_type": "execute_result",
          "data": {
            "text/plain": [
              "   age  sex  cp  trtbps  chol  restecg  thalach  output\n",
              "0   63    1   3     145   233        0      150       1\n",
              "1   37    1   2     130   250        1      187       1\n",
              "2   56    1   1     120   236        1      178       1\n",
              "3   57    0   0     120   354        1      163       1\n",
              "4   57    1   0     140   192        1      148       1"
            ],
            "text/html": [
              "\n",
              "  <div id=\"df-ff9e109b-3e70-4608-82b3-e969da5ec0b5\" class=\"colab-df-container\">\n",
              "    <div>\n",
              "<style scoped>\n",
              "    .dataframe tbody tr th:only-of-type {\n",
              "        vertical-align: middle;\n",
              "    }\n",
              "\n",
              "    .dataframe tbody tr th {\n",
              "        vertical-align: top;\n",
              "    }\n",
              "\n",
              "    .dataframe thead th {\n",
              "        text-align: right;\n",
              "    }\n",
              "</style>\n",
              "<table border=\"1\" class=\"dataframe\">\n",
              "  <thead>\n",
              "    <tr style=\"text-align: right;\">\n",
              "      <th></th>\n",
              "      <th>age</th>\n",
              "      <th>sex</th>\n",
              "      <th>cp</th>\n",
              "      <th>trtbps</th>\n",
              "      <th>chol</th>\n",
              "      <th>restecg</th>\n",
              "      <th>thalach</th>\n",
              "      <th>output</th>\n",
              "    </tr>\n",
              "  </thead>\n",
              "  <tbody>\n",
              "    <tr>\n",
              "      <th>0</th>\n",
              "      <td>63</td>\n",
              "      <td>1</td>\n",
              "      <td>3</td>\n",
              "      <td>145</td>\n",
              "      <td>233</td>\n",
              "      <td>0</td>\n",
              "      <td>150</td>\n",
              "      <td>1</td>\n",
              "    </tr>\n",
              "    <tr>\n",
              "      <th>1</th>\n",
              "      <td>37</td>\n",
              "      <td>1</td>\n",
              "      <td>2</td>\n",
              "      <td>130</td>\n",
              "      <td>250</td>\n",
              "      <td>1</td>\n",
              "      <td>187</td>\n",
              "      <td>1</td>\n",
              "    </tr>\n",
              "    <tr>\n",
              "      <th>2</th>\n",
              "      <td>56</td>\n",
              "      <td>1</td>\n",
              "      <td>1</td>\n",
              "      <td>120</td>\n",
              "      <td>236</td>\n",
              "      <td>1</td>\n",
              "      <td>178</td>\n",
              "      <td>1</td>\n",
              "    </tr>\n",
              "    <tr>\n",
              "      <th>3</th>\n",
              "      <td>57</td>\n",
              "      <td>0</td>\n",
              "      <td>0</td>\n",
              "      <td>120</td>\n",
              "      <td>354</td>\n",
              "      <td>1</td>\n",
              "      <td>163</td>\n",
              "      <td>1</td>\n",
              "    </tr>\n",
              "    <tr>\n",
              "      <th>4</th>\n",
              "      <td>57</td>\n",
              "      <td>1</td>\n",
              "      <td>0</td>\n",
              "      <td>140</td>\n",
              "      <td>192</td>\n",
              "      <td>1</td>\n",
              "      <td>148</td>\n",
              "      <td>1</td>\n",
              "    </tr>\n",
              "  </tbody>\n",
              "</table>\n",
              "</div>\n",
              "    <div class=\"colab-df-buttons\">\n",
              "\n",
              "  <div class=\"colab-df-container\">\n",
              "    <button class=\"colab-df-convert\" onclick=\"convertToInteractive('df-ff9e109b-3e70-4608-82b3-e969da5ec0b5')\"\n",
              "            title=\"Convert this dataframe to an interactive table.\"\n",
              "            style=\"display:none;\">\n",
              "\n",
              "  <svg xmlns=\"http://www.w3.org/2000/svg\" height=\"24px\" viewBox=\"0 -960 960 960\">\n",
              "    <path d=\"M120-120v-720h720v720H120Zm60-500h600v-160H180v160Zm220 220h160v-160H400v160Zm0 220h160v-160H400v160ZM180-400h160v-160H180v160Zm440 0h160v-160H620v160ZM180-180h160v-160H180v160Zm440 0h160v-160H620v160Z\"/>\n",
              "  </svg>\n",
              "    </button>\n",
              "\n",
              "  <style>\n",
              "    .colab-df-container {\n",
              "      display:flex;\n",
              "      gap: 12px;\n",
              "    }\n",
              "\n",
              "    .colab-df-convert {\n",
              "      background-color: #E8F0FE;\n",
              "      border: none;\n",
              "      border-radius: 50%;\n",
              "      cursor: pointer;\n",
              "      display: none;\n",
              "      fill: #1967D2;\n",
              "      height: 32px;\n",
              "      padding: 0 0 0 0;\n",
              "      width: 32px;\n",
              "    }\n",
              "\n",
              "    .colab-df-convert:hover {\n",
              "      background-color: #E2EBFA;\n",
              "      box-shadow: 0px 1px 2px rgba(60, 64, 67, 0.3), 0px 1px 3px 1px rgba(60, 64, 67, 0.15);\n",
              "      fill: #174EA6;\n",
              "    }\n",
              "\n",
              "    .colab-df-buttons div {\n",
              "      margin-bottom: 4px;\n",
              "    }\n",
              "\n",
              "    [theme=dark] .colab-df-convert {\n",
              "      background-color: #3B4455;\n",
              "      fill: #D2E3FC;\n",
              "    }\n",
              "\n",
              "    [theme=dark] .colab-df-convert:hover {\n",
              "      background-color: #434B5C;\n",
              "      box-shadow: 0px 1px 3px 1px rgba(0, 0, 0, 0.15);\n",
              "      filter: drop-shadow(0px 1px 2px rgba(0, 0, 0, 0.3));\n",
              "      fill: #FFFFFF;\n",
              "    }\n",
              "  </style>\n",
              "\n",
              "    <script>\n",
              "      const buttonEl =\n",
              "        document.querySelector('#df-ff9e109b-3e70-4608-82b3-e969da5ec0b5 button.colab-df-convert');\n",
              "      buttonEl.style.display =\n",
              "        google.colab.kernel.accessAllowed ? 'block' : 'none';\n",
              "\n",
              "      async function convertToInteractive(key) {\n",
              "        const element = document.querySelector('#df-ff9e109b-3e70-4608-82b3-e969da5ec0b5');\n",
              "        const dataTable =\n",
              "          await google.colab.kernel.invokeFunction('convertToInteractive',\n",
              "                                                    [key], {});\n",
              "        if (!dataTable) return;\n",
              "\n",
              "        const docLinkHtml = 'Like what you see? Visit the ' +\n",
              "          '<a target=\"_blank\" href=https://colab.research.google.com/notebooks/data_table.ipynb>data table notebook</a>'\n",
              "          + ' to learn more about interactive tables.';\n",
              "        element.innerHTML = '';\n",
              "        dataTable['output_type'] = 'display_data';\n",
              "        await google.colab.output.renderOutput(dataTable, element);\n",
              "        const docLink = document.createElement('div');\n",
              "        docLink.innerHTML = docLinkHtml;\n",
              "        element.appendChild(docLink);\n",
              "      }\n",
              "    </script>\n",
              "  </div>\n",
              "\n",
              "\n",
              "<div id=\"df-b3642380-0f16-4125-a47e-ec1d7336c2e0\">\n",
              "  <button class=\"colab-df-quickchart\" onclick=\"quickchart('df-b3642380-0f16-4125-a47e-ec1d7336c2e0')\"\n",
              "            title=\"Suggest charts\"\n",
              "            style=\"display:none;\">\n",
              "\n",
              "<svg xmlns=\"http://www.w3.org/2000/svg\" height=\"24px\"viewBox=\"0 0 24 24\"\n",
              "     width=\"24px\">\n",
              "    <g>\n",
              "        <path d=\"M19 3H5c-1.1 0-2 .9-2 2v14c0 1.1.9 2 2 2h14c1.1 0 2-.9 2-2V5c0-1.1-.9-2-2-2zM9 17H7v-7h2v7zm4 0h-2V7h2v10zm4 0h-2v-4h2v4z\"/>\n",
              "    </g>\n",
              "</svg>\n",
              "  </button>\n",
              "\n",
              "<style>\n",
              "  .colab-df-quickchart {\n",
              "      --bg-color: #E8F0FE;\n",
              "      --fill-color: #1967D2;\n",
              "      --hover-bg-color: #E2EBFA;\n",
              "      --hover-fill-color: #174EA6;\n",
              "      --disabled-fill-color: #AAA;\n",
              "      --disabled-bg-color: #DDD;\n",
              "  }\n",
              "\n",
              "  [theme=dark] .colab-df-quickchart {\n",
              "      --bg-color: #3B4455;\n",
              "      --fill-color: #D2E3FC;\n",
              "      --hover-bg-color: #434B5C;\n",
              "      --hover-fill-color: #FFFFFF;\n",
              "      --disabled-bg-color: #3B4455;\n",
              "      --disabled-fill-color: #666;\n",
              "  }\n",
              "\n",
              "  .colab-df-quickchart {\n",
              "    background-color: var(--bg-color);\n",
              "    border: none;\n",
              "    border-radius: 50%;\n",
              "    cursor: pointer;\n",
              "    display: none;\n",
              "    fill: var(--fill-color);\n",
              "    height: 32px;\n",
              "    padding: 0;\n",
              "    width: 32px;\n",
              "  }\n",
              "\n",
              "  .colab-df-quickchart:hover {\n",
              "    background-color: var(--hover-bg-color);\n",
              "    box-shadow: 0 1px 2px rgba(60, 64, 67, 0.3), 0 1px 3px 1px rgba(60, 64, 67, 0.15);\n",
              "    fill: var(--button-hover-fill-color);\n",
              "  }\n",
              "\n",
              "  .colab-df-quickchart-complete:disabled,\n",
              "  .colab-df-quickchart-complete:disabled:hover {\n",
              "    background-color: var(--disabled-bg-color);\n",
              "    fill: var(--disabled-fill-color);\n",
              "    box-shadow: none;\n",
              "  }\n",
              "\n",
              "  .colab-df-spinner {\n",
              "    border: 2px solid var(--fill-color);\n",
              "    border-color: transparent;\n",
              "    border-bottom-color: var(--fill-color);\n",
              "    animation:\n",
              "      spin 1s steps(1) infinite;\n",
              "  }\n",
              "\n",
              "  @keyframes spin {\n",
              "    0% {\n",
              "      border-color: transparent;\n",
              "      border-bottom-color: var(--fill-color);\n",
              "      border-left-color: var(--fill-color);\n",
              "    }\n",
              "    20% {\n",
              "      border-color: transparent;\n",
              "      border-left-color: var(--fill-color);\n",
              "      border-top-color: var(--fill-color);\n",
              "    }\n",
              "    30% {\n",
              "      border-color: transparent;\n",
              "      border-left-color: var(--fill-color);\n",
              "      border-top-color: var(--fill-color);\n",
              "      border-right-color: var(--fill-color);\n",
              "    }\n",
              "    40% {\n",
              "      border-color: transparent;\n",
              "      border-right-color: var(--fill-color);\n",
              "      border-top-color: var(--fill-color);\n",
              "    }\n",
              "    60% {\n",
              "      border-color: transparent;\n",
              "      border-right-color: var(--fill-color);\n",
              "    }\n",
              "    80% {\n",
              "      border-color: transparent;\n",
              "      border-right-color: var(--fill-color);\n",
              "      border-bottom-color: var(--fill-color);\n",
              "    }\n",
              "    90% {\n",
              "      border-color: transparent;\n",
              "      border-bottom-color: var(--fill-color);\n",
              "    }\n",
              "  }\n",
              "</style>\n",
              "\n",
              "  <script>\n",
              "    async function quickchart(key) {\n",
              "      const quickchartButtonEl =\n",
              "        document.querySelector('#' + key + ' button');\n",
              "      quickchartButtonEl.disabled = true;  // To prevent multiple clicks.\n",
              "      quickchartButtonEl.classList.add('colab-df-spinner');\n",
              "      try {\n",
              "        const charts = await google.colab.kernel.invokeFunction(\n",
              "            'suggestCharts', [key], {});\n",
              "      } catch (error) {\n",
              "        console.error('Error during call to suggestCharts:', error);\n",
              "      }\n",
              "      quickchartButtonEl.classList.remove('colab-df-spinner');\n",
              "      quickchartButtonEl.classList.add('colab-df-quickchart-complete');\n",
              "    }\n",
              "    (() => {\n",
              "      let quickchartButtonEl =\n",
              "        document.querySelector('#df-b3642380-0f16-4125-a47e-ec1d7336c2e0 button');\n",
              "      quickchartButtonEl.style.display =\n",
              "        google.colab.kernel.accessAllowed ? 'block' : 'none';\n",
              "    })();\n",
              "  </script>\n",
              "</div>\n",
              "    </div>\n",
              "  </div>\n"
            ]
          },
          "metadata": {},
          "execution_count": 28
        }
      ],
      "source": [
        "ha = pd.read_csv(\"https://www.dropbox.com/s/aohbr6yb9ifmc8w/heart_attack.csv?dl=1\")\n",
        "ha.head()"
      ]
    },
    {
      "cell_type": "code",
      "source": [
        "X = ha.drop([\"cp\"], axis = 1)\n",
        "y= ha['cp']"
      ],
      "metadata": {
        "id": "WDocVKjq_8R2"
      },
      "execution_count": 29,
      "outputs": []
    },
    {
      "cell_type": "markdown",
      "source": [
        "## Q1: Natural Multiclass Models\n",
        "\n",
        "Fit a multiclass KNN, Decision Tree, and LDA for the heart disease data; this time predicting the type of chest pain (categories 0 - 3) that a patient experiences.  For the decision tree, plot the fitted tree, and interpret the first couple splits.\n"
      ],
      "metadata": {
        "id": "OCX180v41bhe"
      }
    },
    {
      "cell_type": "code",
      "source": [
        "from sklearn.model_selection import GridSearchCV\n",
        "from sklearn.compose import make_column_selector, ColumnTransformer\n",
        "from sklearn.preprocessing import StandardScaler, OneHotEncoder\n",
        "import numpy as np"
      ],
      "metadata": {
        "id": "yIs7ilfTWhFE"
      },
      "execution_count": 30,
      "outputs": []
    },
    {
      "cell_type": "code",
      "source": [
        "ct2 = ColumnTransformer(\n",
        "  [\n",
        "    (\"standardize\",\n",
        "        StandardScaler(),\n",
        "        ['age', 'trtbps', 'chol', 'thalach'])\n",
        "  ],\n",
        "  remainder = \"passthrough\"\n",
        ")"
      ],
      "metadata": {
        "id": "pvtEHXZYbZSO"
      },
      "execution_count": 31,
      "outputs": []
    },
    {
      "cell_type": "markdown",
      "source": [
        "KNN"
      ],
      "metadata": {
        "id": "6li3rTwGXFbY"
      }
    },
    {
      "cell_type": "code",
      "source": [
        "knn_pipeline = Pipeline(\n",
        "  [\n",
        "      (\"preprocessing\", ct2),\n",
        "      (\"knn_classifier\", KNeighborsClassifier())]\n",
        ")\n",
        "\n",
        "neighbors_range = np.arange(1, 10)\n",
        "\n",
        "param = {\n",
        "    'knn_classifier__n_neighbors': neighbors_range\n",
        "}\n",
        "\n",
        "gscv = GridSearchCV(knn_pipeline, param, cv=5, scoring='accuracy')\n",
        "\n",
        "# Fit the GridSearchCV object\n",
        "gscv_fitted = gscv.fit(X, y)\n",
        "\n",
        "# Get the best score and the best parameters\n",
        "best_score = gscv_fitted.best_score_\n",
        "best_params = gscv_fitted.best_params_\n",
        "\n",
        "best_score, best_params"
      ],
      "metadata": {
        "colab": {
          "base_uri": "https://localhost:8080/"
        },
        "id": "fnF6E30zWuBP",
        "outputId": "090a7e17-84ed-4ed2-a6fe-4179269845ce"
      },
      "execution_count": 33,
      "outputs": [
        {
          "output_type": "execute_result",
          "data": {
            "text/plain": [
              "(0.5240404040404041, {'knn_classifier__n_neighbors': 9})"
            ]
          },
          "metadata": {},
          "execution_count": 33
        }
      ]
    },
    {
      "cell_type": "code",
      "source": [
        "knn_pipeline = Pipeline(\n",
        "  [\n",
        "      (\"preprocessing\", ct2),\n",
        "      (\"knn_classifier\", KNeighborsClassifier(n_neighbors=9))]\n",
        ")\n",
        "\n",
        "# Fit and predict\n",
        "knn_pipeline.fit(X, y)\n",
        "y_pred_knn = cross_val_predict(knn_pipeline, X, y, cv=5)\n",
        "\n",
        "accuracy = accuracy_score(y, y_pred_knn)\n",
        "print(accuracy)"
      ],
      "metadata": {
        "id": "WJsMBCZh1glq",
        "colab": {
          "base_uri": "https://localhost:8080/"
        },
        "outputId": "0265faf0-0041-43f9-b53c-f4818c101872"
      },
      "execution_count": 34,
      "outputs": [
        {
          "output_type": "stream",
          "name": "stdout",
          "text": [
            "0.5238095238095238\n"
          ]
        }
      ]
    },
    {
      "cell_type": "markdown",
      "source": [
        "Decision Tree"
      ],
      "metadata": {
        "id": "0wFfnTr4XDMw"
      }
    },
    {
      "cell_type": "code",
      "source": [
        "tree_pipeline = Pipeline(\n",
        "  [\n",
        "      (\"preprocessing\", ct2),\n",
        "      (\"tree_classifier\", DecisionTreeClassifier())]\n",
        ")\n",
        "\n",
        "param = {\n",
        "    'tree_classifier__max_depth': [1, 2, 5, 10, 20, 50]\n",
        "}\n",
        "\n",
        "# Define GridSearchCV\n",
        "gscv = GridSearchCV(tree_pipeline, param, cv=5, scoring='accuracy')\n",
        "\n",
        "# Fit the GridSearchCV object\n",
        "gscv_fitted = gscv.fit(X, y)\n",
        "\n",
        "# Get the best score and the best parameters\n",
        "best_score = gscv_fitted.best_score_\n",
        "best_params = gscv_fitted.best_params_\n",
        "\n",
        "best_score, best_params"
      ],
      "metadata": {
        "colab": {
          "base_uri": "https://localhost:8080/"
        },
        "id": "HP2eKe0dXC5B",
        "outputId": "189e90a6-fc17-4099-dd2c-9f62917254c7"
      },
      "execution_count": 35,
      "outputs": [
        {
          "output_type": "execute_result",
          "data": {
            "text/plain": [
              "(0.5752188552188552, {'tree_classifier__max_depth': 1})"
            ]
          },
          "metadata": {},
          "execution_count": 35
        }
      ]
    },
    {
      "cell_type": "code",
      "source": [
        "tree_pipeline = Pipeline(\n",
        "  [\n",
        "      (\"preprocessing\", ct2),\n",
        "      (\"tree_classifier\", DecisionTreeClassifier(max_depth= 1))]\n",
        ")\n",
        "\n",
        "# Fit and predict\n",
        "tree_pipeline.fit(X, y)\n",
        "y_pred_tree = cross_val_predict(tree_pipeline, X, y, cv=5)\n",
        "\n",
        "accuracy = accuracy_score(y, y_pred_tree)\n",
        "print(accuracy)"
      ],
      "metadata": {
        "colab": {
          "base_uri": "https://localhost:8080/"
        },
        "id": "cT5WOcCP_vTW",
        "outputId": "644808d6-6808-404b-ea08-f565786fd4b1"
      },
      "execution_count": 36,
      "outputs": [
        {
          "output_type": "stream",
          "name": "stdout",
          "text": [
            "0.575091575091575\n"
          ]
        }
      ]
    },
    {
      "cell_type": "code",
      "source": [
        "from sklearn.tree import plot_tree\n",
        "import matplotlib.pyplot as plt\n",
        "\n",
        "unique_classes = ha['cp'].unique()\n",
        "class_names = [str(class_label) for class_label in unique_classes]\n",
        "\n",
        "# Visualize the decision tree\n",
        "fig = plt.figure(figsize=(20, 15))\n",
        "_ = plot_tree(tree_pipeline.named_steps['tree_classifier'],\n",
        "              feature_names=X.columns,\n",
        "              class_names=class_names,\n",
        "              filled=True)\n",
        "plt.show()"
      ],
      "metadata": {
        "colab": {
          "base_uri": "https://localhost:8080/",
          "height": 959
        },
        "id": "6d9RsrkdcrR2",
        "outputId": "4bd0c81a-602e-47b1-9666-d51f5e703073"
      },
      "execution_count": 37,
      "outputs": [
        {
          "output_type": "display_data",
          "data": {
            "text/plain": [
              "<Figure size 2000x1500 with 1 Axes>"
            ],
            "image/png": "[encoded data removed]"
          },
          "metadata": {}
        }
      ]
    },
    {
      "cell_type": "markdown",
      "source": [
        "DT Interpretation:\n",
        "\n",
        "The first node looks at the whole dataset. The model first predits for either output of disease (1) or no disease (0). The model predicts best for distinghuing between Category 1 and Category 3."
      ],
      "metadata": {
        "id": "plQ8kXwAlZmJ"
      }
    },
    {
      "cell_type": "markdown",
      "source": [
        "LDA"
      ],
      "metadata": {
        "id": "ipC0ib94XITr"
      }
    },
    {
      "cell_type": "code",
      "source": [
        "LDA_pipeline = Pipeline(\n",
        "  [\n",
        "      (\"preprocessing\", ct2),\n",
        "      (\"LDA\", LinearDiscriminantAnalysis())]\n",
        ")\n",
        "\n",
        "# Fit and predict\n",
        "LDA_pipeline.fit(X, y)\n",
        "y_pred_LDA = cross_val_predict(LDA_pipeline, X, y, cv=5)\n",
        "\n",
        "accuracy = accuracy_score(y, y_pred_LDA)\n",
        "print(accuracy)"
      ],
      "metadata": {
        "colab": {
          "base_uri": "https://localhost:8080/"
        },
        "id": "jE6IE8Hl_vmJ",
        "outputId": "c8f7f7b4-01cd-4275-86cd-0cca7474f607"
      },
      "execution_count": 38,
      "outputs": [
        {
          "output_type": "stream",
          "name": "stdout",
          "text": [
            "0.5421245421245421\n"
          ]
        }
      ]
    },
    {
      "cell_type": "markdown",
      "source": [
        "## Q2:  OvR\n",
        "\n",
        "Create a new column in the `ha` dataset called `cp_is_3`, which is equal to `1` if the `cp` variable is equal to `3` and `0` otherwise.\n",
        "\n",
        "Then, fit a Logistic Regression to predict this new target, and report the **F1 Score**.\n",
        "\n",
        "Repeat for the other three `cp` categories.  Which category was the OvR approach best at distinguishing?"
      ],
      "metadata": {
        "id": "gYqpOtbO1EAJ"
      }
    },
    {
      "cell_type": "markdown",
      "source": [
        "for 0, it is good at determining (could mean there are more 0 than any other category)\n",
        "\n",
        "- 0 means it's asympotic (no chest pain), easier to distih whether or not with pain rather than type of pain\n",
        "- 0 is a stnadout class (1-3 are types of pain)\n",
        "- 1 and 3 have bad scores (score=0), because it is always predicting R (the rest), not good but not mathematically wrong\n",
        "- when there is imbalaced categpry, we face this issue\n",
        "- this a flaw in OvR and this means we gotta follow up with why it did not predict well"
      ],
      "metadata": {
        "id": "-AhVxrfafLAh"
      }
    },
    {
      "cell_type": "markdown",
      "source": [
        "Category 3"
      ],
      "metadata": {
        "id": "QCRYnA71dIhH"
      }
    },
    {
      "cell_type": "code",
      "source": [
        "# New columns\n",
        "ha['cp_is_3'] = (ha['cp'] == 3).astype(int)\n",
        "\n",
        "# X and y split\n",
        "X = ha.drop(['cp', 'cp_is_3'], axis=1)  # Exclude 'cp' and the new target\n",
        "y = ha['cp_is_3']"
      ],
      "metadata": {
        "id": "90PfjsjW1T2Y"
      },
      "execution_count": 39,
      "outputs": []
    },
    {
      "cell_type": "code",
      "source": [
        "log_pipeline = Pipeline(\n",
        "  [\n",
        "      (\"preprocessing\", ct2),\n",
        "      (\"log_regression\", LogisticRegression())]\n",
        ")\n",
        "\n",
        "param = {\n",
        "    'log_regression__C': np.logspace(-4, 4, 20),\n",
        "    'log_regression__penalty': ['l1', 'l2']\n",
        "}\n",
        "\n",
        "# Define GridSearchCV\n",
        "gscv = GridSearchCV(log_pipeline, param, cv=5, scoring='f1_macro')\n",
        "\n",
        "# Fit the GridSearchCV object\n",
        "gscv_fitted = gscv.fit(X, y)\n",
        "\n",
        "# Get the best score and the best parameters\n",
        "best_score = gscv_fitted.best_score_\n",
        "best_params = gscv_fitted.best_params_\n",
        "\n",
        "best_score, best_params"
      ],
      "metadata": {
        "colab": {
          "base_uri": "https://localhost:8080/"
        },
        "id": "4b9UqY1Oc_z9",
        "outputId": "aa739099-e6ed-4960-8052-be5873fef116"
      },
      "execution_count": 40,
      "outputs": [
        {
          "output_type": "execute_result",
          "data": {
            "text/plain": [
              "(0.48098693759071115,\n",
              " {'log_regression__C': 0.0001, 'log_regression__penalty': 'l2'})"
            ]
          },
          "metadata": {},
          "execution_count": 40
        }
      ]
    },
    {
      "cell_type": "code",
      "source": [
        "log_pipeline = Pipeline(\n",
        "  [\n",
        "      (\"preprocessing\", ct2),\n",
        "      (\"log_regression\", LogisticRegression(penalty='l2', C=0.0001))]\n",
        ")\n",
        "\n",
        "# Fit and predict\n",
        "log_fitted = log_pipeline.fit(X, y)\n",
        "y_pred_log3 = log_fitted.predict(X)\n",
        "\n",
        "y_pred_log3"
      ],
      "metadata": {
        "colab": {
          "base_uri": "https://localhost:8080/"
        },
        "id": "4OxN1cQ2dFLX",
        "outputId": "5b44c70a-ba72-4bdd-cacf-20b1dbe7a0e4"
      },
      "execution_count": 41,
      "outputs": [
        {
          "output_type": "execute_result",
          "data": {
            "text/plain": [
              "array([0, 0, 0, 0, 0, 0, 0, 0, 0, 0, 0, 0, 0, 0, 0, 0, 0, 0, 0, 0, 0, 0,\n",
              "       0, 0, 0, 0, 0, 0, 0, 0, 0, 0, 0, 0, 0, 0, 0, 0, 0, 0, 0, 0, 0, 0,\n",
              "       0, 0, 0, 0, 0, 0, 0, 0, 0, 0, 0, 0, 0, 0, 0, 0, 0, 0, 0, 0, 0, 0,\n",
              "       0, 0, 0, 0, 0, 0, 0, 0, 0, 0, 0, 0, 0, 0, 0, 0, 0, 0, 0, 0, 0, 0,\n",
              "       0, 0, 0, 0, 0, 0, 0, 0, 0, 0, 0, 0, 0, 0, 0, 0, 0, 0, 0, 0, 0, 0,\n",
              "       0, 0, 0, 0, 0, 0, 0, 0, 0, 0, 0, 0, 0, 0, 0, 0, 0, 0, 0, 0, 0, 0,\n",
              "       0, 0, 0, 0, 0, 0, 0, 0, 0, 0, 0, 0, 0, 0, 0, 0, 0, 0, 0, 0, 0, 0,\n",
              "       0, 0, 0, 0, 0, 0, 0, 0, 0, 0, 0, 0, 0, 0, 0, 0, 0, 0, 0, 0, 0, 0,\n",
              "       0, 0, 0, 0, 0, 0, 0, 0, 0, 0, 0, 0, 0, 0, 0, 0, 0, 0, 0, 0, 0, 0,\n",
              "       0, 0, 0, 0, 0, 0, 0, 0, 0, 0, 0, 0, 0, 0, 0, 0, 0, 0, 0, 0, 0, 0,\n",
              "       0, 0, 0, 0, 0, 0, 0, 0, 0, 0, 0, 0, 0, 0, 0, 0, 0, 0, 0, 0, 0, 0,\n",
              "       0, 0, 0, 0, 0, 0, 0, 0, 0, 0, 0, 0, 0, 0, 0, 0, 0, 0, 0, 0, 0, 0,\n",
              "       0, 0, 0, 0, 0, 0, 0, 0, 0])"
            ]
          },
          "metadata": {},
          "execution_count": 41
        }
      ]
    },
    {
      "cell_type": "markdown",
      "source": [
        "Category 2"
      ],
      "metadata": {
        "id": "1bJyy7K5dGMp"
      }
    },
    {
      "cell_type": "code",
      "source": [
        "# New columns\n",
        "ha['cp_is_2'] = (ha['cp'] == 2).astype(int)\n",
        "\n",
        "# X and y split\n",
        "X = ha.drop(['cp', 'cp_is_2', 'cp_is_3'], axis=1)  # Exclude 'cp' and the new target\n",
        "y = ha['cp_is_2']"
      ],
      "metadata": {
        "id": "6acTwIJ_G2_z"
      },
      "execution_count": 44,
      "outputs": []
    },
    {
      "cell_type": "code",
      "source": [
        "log_pipeline = Pipeline(\n",
        "  [\n",
        "      (\"preprocessing\", ct2),\n",
        "      (\"log_regression\", LogisticRegression())]\n",
        ")\n",
        "\n",
        "param = {\n",
        "    'log_regression__C': np.logspace(-4, 4, 20),\n",
        "    'log_regression__penalty': ['l1', 'l2']\n",
        "}\n",
        "\n",
        "# Define GridSearchCV\n",
        "gscv = GridSearchCV(log_pipeline, param, cv=5, scoring='f1_macro')\n",
        "\n",
        "# Fit the GridSearchCV object\n",
        "gscv_fitted = gscv.fit(X, y)\n",
        "\n",
        "# Get the best score and the best parameters\n",
        "best_score = gscv_fitted.best_score_\n",
        "best_params = gscv_fitted.best_params_\n",
        "\n",
        "best_score, best_params"
      ],
      "metadata": {
        "colab": {
          "base_uri": "https://localhost:8080/"
        },
        "id": "Acmj1ZXweUgk",
        "outputId": "d37946d3-0c9a-4227-b444-a63407906074"
      },
      "execution_count": 45,
      "outputs": [
        {
          "output_type": "execute_result",
          "data": {
            "text/plain": [
              "(0.4425522722768466,\n",
              " {'log_regression__C': 0.23357214690901212, 'log_regression__penalty': 'l2'})"
            ]
          },
          "metadata": {},
          "execution_count": 45
        }
      ]
    },
    {
      "cell_type": "code",
      "source": [
        "log_pipeline = Pipeline(\n",
        "  [\n",
        "      (\"preprocessing\", ct2),\n",
        "      (\"log_regression\", LogisticRegression(penalty= 'l2', C=0.23357214690901212))]\n",
        ")\n",
        "\n",
        "# Fit and predict\n",
        "log_fitted2 = log_pipeline.fit(X, y)\n",
        "y_pred_log2 = log_fitted2.predict(X)\n",
        "\n",
        "y_pred_log2"
      ],
      "metadata": {
        "colab": {
          "base_uri": "https://localhost:8080/"
        },
        "id": "kRjVMm8SeXnu",
        "outputId": "7a56b6a7-6250-4d17-d120-08923680b83e"
      },
      "execution_count": 46,
      "outputs": [
        {
          "output_type": "execute_result",
          "data": {
            "text/plain": [
              "array([0, 0, 0, 0, 0, 0, 0, 0, 0, 0, 0, 0, 0, 0, 0, 0, 0, 0, 0, 0, 0, 0,\n",
              "       0, 0, 0, 0, 0, 0, 0, 0, 0, 0, 0, 0, 0, 0, 0, 0, 0, 0, 0, 0, 0, 0,\n",
              "       0, 0, 0, 1, 0, 0, 0, 0, 0, 0, 0, 0, 0, 1, 0, 0, 0, 0, 0, 0, 0, 0,\n",
              "       0, 0, 0, 0, 0, 0, 0, 0, 0, 0, 0, 0, 0, 0, 0, 0, 0, 0, 0, 0, 0, 0,\n",
              "       1, 0, 0, 0, 0, 0, 0, 0, 0, 0, 0, 0, 0, 0, 0, 0, 0, 0, 1, 1, 0, 0,\n",
              "       0, 0, 0, 0, 0, 0, 0, 0, 0, 0, 0, 0, 0, 1, 0, 0, 0, 0, 0, 0, 0, 0,\n",
              "       0, 0, 0, 0, 0, 0, 0, 0, 0, 0, 0, 0, 0, 0, 0, 0, 0, 0, 0, 0, 0, 0,\n",
              "       0, 0, 0, 0, 0, 0, 0, 0, 0, 0, 0, 0, 0, 0, 0, 0, 0, 0, 0, 0, 0, 0,\n",
              "       0, 0, 0, 0, 0, 0, 0, 0, 0, 0, 0, 0, 0, 0, 0, 0, 0, 0, 0, 0, 0, 0,\n",
              "       0, 0, 0, 0, 0, 0, 0, 0, 0, 0, 0, 0, 0, 0, 0, 0, 0, 0, 0, 0, 0, 0,\n",
              "       0, 0, 0, 0, 0, 0, 0, 0, 0, 0, 0, 0, 0, 0, 0, 0, 0, 0, 0, 0, 0, 0,\n",
              "       0, 0, 0, 0, 0, 0, 0, 0, 0, 0, 0, 0, 0, 0, 0, 0, 0, 0, 0, 0, 0, 0,\n",
              "       0, 0, 0, 0, 0, 0, 0, 0, 0])"
            ]
          },
          "metadata": {},
          "execution_count": 46
        }
      ]
    },
    {
      "cell_type": "markdown",
      "source": [
        "Category 1"
      ],
      "metadata": {
        "id": "9PtzaAjueSmW"
      }
    },
    {
      "cell_type": "code",
      "source": [
        "# New columns\n",
        "ha['cp_is_1'] = (ha['cp'] == 1).astype(int)\n",
        "\n",
        "# X and y split\n",
        "X = ha.drop(['cp', 'cp_is_1', 'cp_is_2', 'cp_is_3'], axis=1)  # Exclude 'cp' and the new target\n",
        "y = ha['cp_is_1']"
      ],
      "metadata": {
        "id": "tP8en8RbIawc"
      },
      "execution_count": 48,
      "outputs": []
    },
    {
      "cell_type": "code",
      "source": [
        "log_pipeline = Pipeline(\n",
        "  [\n",
        "      (\"preprocessing\", ct2),\n",
        "      (\"log_regression\", LogisticRegression())]\n",
        ")\n",
        "\n",
        "param = {\n",
        "    'log_regression__C': np.logspace(-4, 4, 20),\n",
        "    'log_regression__penalty': ['l1', 'l2']\n",
        "}\n",
        "\n",
        "# Define GridSearchCV\n",
        "gscv = GridSearchCV(log_pipeline, param, cv=5, scoring='f1_macro')\n",
        "\n",
        "# Fit the GridSearchCV object\n",
        "gscv_fitted = gscv.fit(X, y)\n",
        "\n",
        "# Get the best score and the best parameters\n",
        "best_score = gscv_fitted.best_score_\n",
        "best_params = gscv_fitted.best_params_\n",
        "\n",
        "best_score, best_params"
      ],
      "metadata": {
        "colab": {
          "base_uri": "https://localhost:8080/"
        },
        "id": "wSmPVJ0nes4Y",
        "outputId": "bfd90bdd-f20e-493b-8a48-55b43cfbf134"
      },
      "execution_count": 49,
      "outputs": [
        {
          "output_type": "execute_result",
          "data": {
            "text/plain": [
              "(0.45617641764176414,\n",
              " {'log_regression__C': 0.0001, 'log_regression__penalty': 'l2'})"
            ]
          },
          "metadata": {},
          "execution_count": 49
        }
      ]
    },
    {
      "cell_type": "code",
      "source": [
        "log_pipeline = Pipeline(\n",
        "  [\n",
        "      (\"preprocessing\", ct2),\n",
        "      (\"log_regression\", LogisticRegression(penalty= 'l2', C=0.0001))]\n",
        ")\n",
        "\n",
        "# Fit and predict\n",
        "log_fitted1 = log_pipeline.fit(X, y)\n",
        "y_pred_log1 = log_fitted1.predict(X)\n",
        "\n",
        "y_pred_log1"
      ],
      "metadata": {
        "colab": {
          "base_uri": "https://localhost:8080/"
        },
        "id": "4jOaJfDGetxs",
        "outputId": "ce4bbab5-9c48-4132-e07f-f101f1873461"
      },
      "execution_count": 50,
      "outputs": [
        {
          "output_type": "execute_result",
          "data": {
            "text/plain": [
              "array([0, 0, 0, 0, 0, 0, 0, 0, 0, 0, 0, 0, 0, 0, 0, 0, 0, 0, 0, 0, 0, 0,\n",
              "       0, 0, 0, 0, 0, 0, 0, 0, 0, 0, 0, 0, 0, 0, 0, 0, 0, 0, 0, 0, 0, 0,\n",
              "       0, 0, 0, 0, 0, 0, 0, 0, 0, 0, 0, 0, 0, 0, 0, 0, 0, 0, 0, 0, 0, 0,\n",
              "       0, 0, 0, 0, 0, 0, 0, 0, 0, 0, 0, 0, 0, 0, 0, 0, 0, 0, 0, 0, 0, 0,\n",
              "       0, 0, 0, 0, 0, 0, 0, 0, 0, 0, 0, 0, 0, 0, 0, 0, 0, 0, 0, 0, 0, 0,\n",
              "       0, 0, 0, 0, 0, 0, 0, 0, 0, 0, 0, 0, 0, 0, 0, 0, 0, 0, 0, 0, 0, 0,\n",
              "       0, 0, 0, 0, 0, 0, 0, 0, 0, 0, 0, 0, 0, 0, 0, 0, 0, 0, 0, 0, 0, 0,\n",
              "       0, 0, 0, 0, 0, 0, 0, 0, 0, 0, 0, 0, 0, 0, 0, 0, 0, 0, 0, 0, 0, 0,\n",
              "       0, 0, 0, 0, 0, 0, 0, 0, 0, 0, 0, 0, 0, 0, 0, 0, 0, 0, 0, 0, 0, 0,\n",
              "       0, 0, 0, 0, 0, 0, 0, 0, 0, 0, 0, 0, 0, 0, 0, 0, 0, 0, 0, 0, 0, 0,\n",
              "       0, 0, 0, 0, 0, 0, 0, 0, 0, 0, 0, 0, 0, 0, 0, 0, 0, 0, 0, 0, 0, 0,\n",
              "       0, 0, 0, 0, 0, 0, 0, 0, 0, 0, 0, 0, 0, 0, 0, 0, 0, 0, 0, 0, 0, 0,\n",
              "       0, 0, 0, 0, 0, 0, 0, 0, 0])"
            ]
          },
          "metadata": {},
          "execution_count": 50
        }
      ]
    },
    {
      "cell_type": "markdown",
      "source": [
        "Category 0"
      ],
      "metadata": {
        "id": "J1D3qKUltLPT"
      }
    },
    {
      "cell_type": "code",
      "source": [
        "# Creating the new column for cp_is_0\n",
        "ha['cp_is_0'] = (ha['cp'] == 0).astype(int)\n",
        "\n",
        "# Splitting the data\n",
        "X = ha.drop(['cp', 'cp_is_0', 'cp_is_1', 'cp_is_2', 'cp_is_3'], axis=1)  # Exclude 'cp' and the new target\n",
        "y = ha['cp_is_0']"
      ],
      "metadata": {
        "id": "bvj8sSxctMUP"
      },
      "execution_count": 51,
      "outputs": []
    },
    {
      "cell_type": "code",
      "source": [
        "log_pipeline = Pipeline(\n",
        "  [\n",
        "      (\"preprocessing\", ct2),\n",
        "      (\"log_regression\", LogisticRegression())]\n",
        ")\n",
        "\n",
        "param = {\n",
        "    'log_regression__C': np.logspace(-4, 4, 20),\n",
        "    'log_regression__penalty': ['l1', 'l2']\n",
        "}\n",
        "\n",
        "# Define GridSearchCV\n",
        "gscv = GridSearchCV(log_pipeline, param, cv=5, scoring='f1_macro')\n",
        "\n",
        "# Fit the GridSearchCV object\n",
        "gscv_fitted = gscv.fit(X, y)\n",
        "\n",
        "# Get the best score and the best parameters\n",
        "best_score = gscv_fitted.best_score_\n",
        "best_params = gscv_fitted.best_params_\n",
        "\n",
        "best_score, best_params"
      ],
      "metadata": {
        "colab": {
          "base_uri": "https://localhost:8080/"
        },
        "id": "h8PhsRKYuPOj",
        "outputId": "2e20ad9c-dd07-4550-ab2a-9d7b1d7137d0"
      },
      "execution_count": 52,
      "outputs": [
        {
          "output_type": "execute_result",
          "data": {
            "text/plain": [
              "(0.6653307662801333,\n",
              " {'log_regression__C': 206.913808111479, 'log_regression__penalty': 'l2'})"
            ]
          },
          "metadata": {},
          "execution_count": 52
        }
      ]
    },
    {
      "cell_type": "code",
      "source": [
        "log_pipeline = Pipeline(\n",
        "  [\n",
        "      (\"preprocessing\", ct2),\n",
        "      (\"log_regression\", LogisticRegression(penalty= 'l2', C=206.913808111479))]\n",
        ")\n",
        "\n",
        "# Fit and predict\n",
        "log_fitted0 = log_pipeline.fit(X, y)\n",
        "y_pred_log0 = log_fitted0.predict(X)\n",
        "\n",
        "y_pred_log0"
      ],
      "metadata": {
        "colab": {
          "base_uri": "https://localhost:8080/"
        },
        "id": "BM1w_1xwuX4R",
        "outputId": "86a22cc4-c86c-4a3b-ed8b-cf7298c775f5"
      },
      "execution_count": 53,
      "outputs": [
        {
          "output_type": "execute_result",
          "data": {
            "text/plain": [
              "array([0, 0, 0, 0, 0, 0, 0, 0, 0, 0, 0, 0, 0, 0, 0, 0, 0, 0, 0, 0, 0, 0,\n",
              "       0, 0, 0, 0, 0, 0, 0, 0, 0, 0, 0, 0, 0, 0, 0, 0, 0, 0, 0, 0, 1, 0,\n",
              "       0, 0, 0, 0, 0, 0, 0, 0, 0, 0, 0, 0, 0, 0, 0, 0, 0, 0, 0, 0, 0, 0,\n",
              "       0, 0, 0, 0, 0, 0, 0, 0, 1, 0, 0, 1, 0, 0, 0, 0, 0, 0, 0, 0, 0, 0,\n",
              "       0, 0, 0, 1, 0, 0, 0, 0, 0, 0, 0, 0, 0, 0, 0, 0, 0, 0, 0, 0, 0, 0,\n",
              "       0, 0, 0, 0, 0, 0, 0, 1, 0, 0, 0, 0, 0, 0, 0, 0, 0, 0, 0, 0, 0, 0,\n",
              "       0, 0, 0, 0, 0, 0, 0, 0, 0, 0, 0, 0, 0, 0, 1, 1, 1, 1, 1, 1, 1, 1,\n",
              "       1, 1, 1, 1, 1, 1, 1, 1, 1, 1, 1, 1, 1, 1, 1, 1, 1, 1, 1, 1, 1, 1,\n",
              "       1, 1, 1, 1, 1, 1, 1, 1, 1, 1, 1, 1, 1, 1, 1, 1, 1, 1, 1, 1, 1, 1,\n",
              "       1, 1, 1, 1, 1, 1, 1, 1, 1, 1, 1, 1, 1, 1, 1, 1, 1, 1, 1, 1, 1, 1,\n",
              "       1, 1, 1, 0, 1, 1, 1, 1, 1, 1, 1, 1, 0, 1, 1, 1, 1, 1, 1, 1, 1, 1,\n",
              "       1, 1, 1, 1, 1, 1, 1, 1, 1, 1, 1, 1, 0, 1, 1, 1, 1, 1, 1, 1, 1, 1,\n",
              "       1, 1, 1, 1, 1, 1, 1, 1, 1])"
            ]
          },
          "metadata": {},
          "execution_count": 53
        }
      ]
    },
    {
      "cell_type": "markdown",
      "source": [
        "## Q3: OvO\n",
        "\n",
        "Reduce your dataset to only the `0` and `1` types of chest pain.\n",
        "\n",
        "Then, fit a Logistic Regression to predict between the two groups, and report the **ROC-AUC**.  \n",
        "\n",
        "Repeat comparing category `0` to `2` and `3`.  Which pair was the OvO approach best at distinguishing?"
      ],
      "metadata": {
        "id": "lXO3jbTU1ULR"
      }
    },
    {
      "cell_type": "markdown",
      "source": [
        "0 and 1 types of chest pain"
      ],
      "metadata": {
        "id": "CEiipmelfE7v"
      }
    },
    {
      "cell_type": "code",
      "source": [
        "# Filter the dataset to include only rows with cp values 0 or 1\n",
        "ha_filtered = ha[ha['cp'].isin([0, 1])]\n",
        "\n",
        "# X and y split\n",
        "X = ha_filtered.drop(['cp', 'cp_is_0', 'cp_is_1', 'cp_is_2', 'cp_is_3'], axis=1)  # Exclude 'cp' and the new target\n",
        "y = ha_filtered['cp']"
      ],
      "metadata": {
        "id": "THrjnRoV1siy"
      },
      "execution_count": 54,
      "outputs": []
    },
    {
      "cell_type": "code",
      "source": [
        "log_pipeline1 = Pipeline(\n",
        "  [\n",
        "      (\"preprocessing\", ct2),\n",
        "      (\"log_regression\", LogisticRegression())]\n",
        ")\n",
        "\n",
        "param = {\n",
        "    'log_regression__C': np.logspace(-4, 4, 20),\n",
        "    'log_regression__l1_ratio': [0.1, 0.3, 0.5, 0.7, 0.9, 1]\n",
        "}\n",
        "\n",
        "# Define GridSearchCV\n",
        "gscv = GridSearchCV(log_pipeline1, param, cv=5, scoring='roc_auc_ovo')\n",
        "\n",
        "# Fit the GridSearchCV object\n",
        "gscv_fitted = gscv.fit(X, y)\n",
        "\n",
        "# Get the best score and the best parameters\n",
        "best_score = gscv_fitted.best_score_\n",
        "best_params = gscv_fitted.best_params_\n",
        "\n",
        "best_score, best_params  # ROC_AUC ovo score of 0.8368974358974359"
      ],
      "metadata": {
        "colab": {
          "base_uri": "https://localhost:8080/"
        },
        "id": "kJsJG84zgd9y",
        "outputId": "6c3afa80-5d0c-4d0a-ae4d-f821fa5eccfd"
      },
      "execution_count": 55,
      "outputs": [
        {
          "output_type": "execute_result",
          "data": {
            "text/plain": [
              "(0.8368974358974359,\n",
              " {'log_regression__C': 1.623776739188721, 'log_regression__l1_ratio': 0.1})"
            ]
          },
          "metadata": {},
          "execution_count": 55
        }
      ]
    },
    {
      "cell_type": "markdown",
      "source": [
        "0 and 2 types of chest pain"
      ],
      "metadata": {
        "id": "zPjl5GL7gFpI"
      }
    },
    {
      "cell_type": "code",
      "source": [
        "# Filter the dataset to include only rows with cp values 0 or 2\n",
        "ha_filtered = ha[ha['cp'].isin([0, 2])]\n",
        "\n",
        "# X and y split\n",
        "X = ha_filtered.drop(['cp', 'cp_is_0', 'cp_is_1', 'cp_is_2', 'cp_is_3'], axis=1)  # Exclude 'cp' and the new target\n",
        "y = ha_filtered['cp']"
      ],
      "metadata": {
        "id": "2cqNYHgoKwG4"
      },
      "execution_count": 58,
      "outputs": []
    },
    {
      "cell_type": "code",
      "source": [
        "log_pipeline = Pipeline(\n",
        "  [\n",
        "      (\"preprocessing\", ct2),\n",
        "      (\"log_regression\", LogisticRegression())]\n",
        ")\n",
        "\n",
        "param = {\n",
        "    'log_regression__C': np.logspace(-4, 4, 20),\n",
        "    'log_regression__l1_ratio': [0.1, 0.3, 0.5, 0.7, 0.9, 1]\n",
        "}\n",
        "\n",
        "# Define GridSearchCV\n",
        "gscv = GridSearchCV(log_pipeline, param, cv=5, scoring='roc_auc_ovo')\n",
        "\n",
        "# Fit the GridSearchCV object\n",
        "gscv_fitted = gscv.fit(X, y)\n",
        "\n",
        "# Get the best score and the best parameters\n",
        "best_score = gscv_fitted.best_score_\n",
        "best_params = gscv_fitted.best_params_\n",
        "\n",
        "best_score, best_params # ROC_AUC ovo score of 0.7569954751131223"
      ],
      "metadata": {
        "colab": {
          "base_uri": "https://localhost:8080/"
        },
        "id": "APiSg_ILhfCJ",
        "outputId": "900084a3-3e0a-4361-a868-224c6b0c77f9"
      },
      "execution_count": 59,
      "outputs": [
        {
          "output_type": "execute_result",
          "data": {
            "text/plain": [
              "(0.7569954751131223,\n",
              " {'log_regression__C': 78.47599703514607, 'log_regression__l1_ratio': 0.1})"
            ]
          },
          "metadata": {},
          "execution_count": 59
        }
      ]
    },
    {
      "cell_type": "markdown",
      "source": [
        "0 and 3 types of chest pain"
      ],
      "metadata": {
        "id": "P1uhExCsgHRK"
      }
    },
    {
      "cell_type": "code",
      "source": [
        "# Filter the dataset to include only rows with cp values 0 or 3\n",
        "ha_filtered = ha[ha['cp'].isin([0, 3])]\n",
        "\n",
        "# X and y split\n",
        "X = ha_filtered.drop(['cp', 'cp_is_0', 'cp_is_1', 'cp_is_2', 'cp_is_3'], axis=1)  # Exclude 'cp' and the new target\n",
        "y = ha_filtered['cp']"
      ],
      "metadata": {
        "id": "UZxdYsbQK-tN"
      },
      "execution_count": 60,
      "outputs": []
    },
    {
      "cell_type": "code",
      "source": [
        "log_pipeline = Pipeline(\n",
        "  [\n",
        "      (\"preprocessing\", ct2),\n",
        "      (\"log_regression\", LogisticRegression())]\n",
        ")\n",
        "\n",
        "param = {\n",
        "    'log_regression__C': np.logspace(-4, 4, 20),\n",
        "    'log_regression__l1_ratio': [0.1, 0.3, 0.5, 0.7, 0.9, 1]\n",
        "}\n",
        "\n",
        "# Define GridSearchCV\n",
        "gscv = GridSearchCV(log_pipeline, param, cv=5, scoring='roc_auc')\n",
        "\n",
        "# Fit the GridSearchCV object\n",
        "gscv_fitted = gscv.fit(X, y)\n",
        "\n",
        "# Get the best score and the best parameters\n",
        "best_score = gscv_fitted.best_score_\n",
        "best_params = gscv_fitted.best_params_\n",
        "\n",
        "best_score, best_params  # ROC_AUC ovo score of 0.7392307692307692"
      ],
      "metadata": {
        "colab": {
          "base_uri": "https://localhost:8080/"
        },
        "id": "QgvXcgZPh5dP",
        "outputId": "4e40206d-f83d-47bd-e798-07dfd0861095"
      },
      "execution_count": 61,
      "outputs": [
        {
          "output_type": "execute_result",
          "data": {
            "text/plain": [
              "(0.7392307692307692,\n",
              " {'log_regression__C': 4.281332398719396, 'log_regression__l1_ratio': 0.1})"
            ]
          },
          "metadata": {},
          "execution_count": 61
        }
      ]
    },
    {
      "cell_type": "markdown",
      "source": [
        "OvO approach works best for looking at categories 0 and 1.\n",
        "\n",
        "This makes sense because by the nature of the metric it is easy to say \"you do have pain\" or \"you do not have pain\".\n"
      ],
      "metadata": {
        "id": "yd_a83RQLGfI"
      }
    }
  ]
}