{
  "nbformat": 4,
  "nbformat_minor": 0,
  "metadata": {
    "colab": {
      "provenance": []
    },
    "kernelspec": {
      "name": "python3",
      "display_name": "Python 3"
    },
    "language_info": {
      "name": "python"
    }
  },
  "cells": [
    {
      "cell_type": "markdown",
      "source": [
        "PRACTICE 3.1"
      ],
      "metadata": {
        "id": "bo9xQETbzzjt"
      }
    },
    {
      "cell_type": "markdown",
      "source": [
        "1. Fill in the necessary code to write a function called `times_seven()`. The function should take a single argument (`x`) and multiply the input by 7.\n",
        "  + This function should check that the argument is numeric.\n",
        "  + This function should also excitedly announce (print) *“I love sevens!”* if the argument to the function is a 7."
      ],
      "metadata": {
        "id": "1Q8_a-5qociG"
      }
    },
    {
      "cell_type": "code",
      "source": [
        "def times_seven(x):\n",
        "  \"\"\"\n",
        "  Mutiplies the input x by 7. If the input is 7, then returns an announcement.\n",
        "\n",
        "  Parameters\n",
        "  ----------\n",
        "  x\n",
        "\n",
        "  Returns\n",
        "  -------\n",
        "  x * 7 and \"I love sevens!'\n",
        "  \"\"\"\n",
        "\n",
        "  if not isinstance(x, (int, float)):\n",
        "    exit(\"Please provide a variable name in the form of a numeric.\")\n",
        "\n",
        "  if x == 7:\n",
        "    print(\"I love sevens!\")\n",
        "\n",
        "  return x*7"
      ],
      "metadata": {
        "id": "l5CW0nuloYzy"
      },
      "execution_count": 31,
      "outputs": []
    },
    {
      "cell_type": "markdown",
      "source": [
        "2. Write and run some *unit tests* for your `times_seven` function.  What happens if the input to the function is `[1, 3, 5, 7]`?"
      ],
      "metadata": {
        "id": "nonjYlruotrq"
      }
    },
    {
      "cell_type": "code",
      "source": [
        "times_seven(1)"
      ],
      "metadata": {
        "colab": {
          "base_uri": "https://localhost:8080/"
        },
        "id": "9h0jHnwrf8FB",
        "outputId": "aa67b791-46fd-45ce-d54d-eb6bec57b2e5"
      },
      "execution_count": 32,
      "outputs": [
        {
          "output_type": "execute_result",
          "data": {
            "text/plain": [
              "7"
            ]
          },
          "metadata": {},
          "execution_count": 32
        }
      ]
    },
    {
      "cell_type": "code",
      "source": [
        "times_seven(7)"
      ],
      "metadata": {
        "colab": {
          "base_uri": "https://localhost:8080/"
        },
        "id": "zBR5PjeriRO4",
        "outputId": "d55ef42c-3fd9-42ed-8b04-3176ee26fed0"
      },
      "execution_count": 33,
      "outputs": [
        {
          "output_type": "stream",
          "name": "stdout",
          "text": [
            "I love sevens!\n"
          ]
        },
        {
          "output_type": "execute_result",
          "data": {
            "text/plain": [
              "49"
            ]
          },
          "metadata": {},
          "execution_count": 33
        }
      ]
    },
    {
      "cell_type": "code",
      "source": [
        "times_seven('seven')\n",
        "\n",
        "# returns seven 7 times"
      ],
      "metadata": {
        "colab": {
          "base_uri": "https://localhost:8080/",
          "height": 35
        },
        "id": "I2TpOInRpg-A",
        "outputId": "7c8feda2-2f9a-4a71-f136-c0761b32f9aa"
      },
      "execution_count": 36,
      "outputs": [
        {
          "output_type": "execute_result",
          "data": {
            "text/plain": [
              "'sevensevensevensevensevensevenseven'"
            ],
            "application/vnd.google.colaboratory.intrinsic+json": {
              "type": "string"
            }
          },
          "metadata": {},
          "execution_count": 36
        }
      ]
    },
    {
      "cell_type": "code",
      "source": [
        "times_seven([1, 3, 5, 7])\n",
        "\n",
        "# returns with the list listed 7 times"
      ],
      "metadata": {
        "colab": {
          "base_uri": "https://localhost:8080/"
        },
        "id": "ExCD7TN0ftcf",
        "outputId": "91f3ba5d-6d56-457a-e57a-7b5ab2f83a4a"
      },
      "execution_count": 34,
      "outputs": [
        {
          "output_type": "execute_result",
          "data": {
            "text/plain": [
              "[1,\n",
              " 3,\n",
              " 5,\n",
              " 7,\n",
              " 1,\n",
              " 3,\n",
              " 5,\n",
              " 7,\n",
              " 1,\n",
              " 3,\n",
              " 5,\n",
              " 7,\n",
              " 1,\n",
              " 3,\n",
              " 5,\n",
              " 7,\n",
              " 1,\n",
              " 3,\n",
              " 5,\n",
              " 7,\n",
              " 1,\n",
              " 3,\n",
              " 5,\n",
              " 7,\n",
              " 1,\n",
              " 3,\n",
              " 5,\n",
              " 7]"
            ]
          },
          "metadata": {},
          "execution_count": 34
        }
      ]
    },
    {
      "cell_type": "markdown",
      "source": [
        "3. Consider the following function:"
      ],
      "metadata": {
        "id": "98sLHKBno39e"
      }
    },
    {
      "cell_type": "code",
      "source": [
        "def add_or_subtract(first_num, second_num = 2, type = \"add\"):\n",
        "\n",
        "  if (type == \"add\"):\n",
        "    res = first_num + second_num\n",
        "  elif (type == \"subtract\"):\n",
        "    res = first_num - second_num\n",
        "  else:\n",
        "    exit(\"Please choose `add` or `subtract` as the type.\")\n",
        "\n",
        "    return res"
      ],
      "metadata": {
        "id": "V1xGEwq-o5mh"
      },
      "execution_count": 1,
      "outputs": []
    },
    {
      "cell_type": "markdown",
      "source": [
        "**Without running the code**, predict if the following will produce:\n",
        "\n",
        "a. 1\n",
        "\n",
        "b. -1\n",
        "\n",
        "c. 30\n",
        "\n",
        "d. An error defined by the function `add_or_subtract()`\n",
        "\n",
        "e. An error defined in a different function, which is called inside the `add_or_subtract()` function"
      ],
      "metadata": {
        "id": "KIzEYgR1pI0K"
      }
    },
    {
      "cell_type": "markdown",
      "source": [
        "What the code does (It can either be \"add\" or \"subtract\". If not provided, its default value is \"add\"): if you choose to add or don't specify the type, it will add the first and second number together; if you specify subtract, it will subtract the second number from the first number; if you write a function (ex. multiplication or division) instead of add or subtract, an error message of \"Please choose `add` or `subtract` as the type.\" will appear.\n",
        "\n",
        "a. To produce 1, you can code add_or_subtract(1,0).\n",
        "\n",
        "b. To produce -1, you can code add_or_subtract(1,2, type=\"subtract\")\n",
        "\n",
        "c. To produce 30, you can code add_or_subtract(15,15).\n",
        "\n",
        "d. To get that error, you can code add_or_subtract(10,20, type=\"multiply)\n",
        "\n",
        "e. To get that error, you can code add_or_subtract(1, \"zero\")"
      ],
      "metadata": {
        "id": "wOQD9-fOi42r"
      }
    },
    {
      "cell_type": "code",
      "source": [
        "# No error\n",
        "add_or_subtract(5, 6, type = \"subtract\")\n",
        "\n",
        "# Error because \"orange\" is a string\n",
        "add_or_subtract(\"orange\")\n",
        "\n",
        "# Error because \"multiply\" is not defined by the function\n",
        "add_or_subtract(5, 6, type = \"multiply\")"
      ],
      "metadata": {
        "id": "AKN_fkigpHIS"
      },
      "execution_count": null,
      "outputs": []
    },
    {
      "cell_type": "markdown",
      "source": [
        "4. Consider the following code:"
      ],
      "metadata": {
        "id": "Z0_cVjgdpOSr"
      }
    },
    {
      "cell_type": "code",
      "source": [
        "first_num  = 5\n",
        "second_num = 3\n",
        "\n",
        "result = 8\n",
        "\n",
        "result = add_or_subtract(first_num, second_num = 4)\n",
        "\n",
        "result_2 = add_or_subtract(first_num)"
      ],
      "metadata": {
        "id": "G4ImmGWGpekK"
      },
      "execution_count": null,
      "outputs": []
    },
    {
      "cell_type": "markdown",
      "source": [
        "\n",
        "In your Global Environment, what is the value of...\n",
        "\n",
        "a. `first_num`\n",
        "\n",
        "b. `second_num`\n",
        "\n",
        "c. `result`\n",
        "\n",
        "d. `result_2`"
      ],
      "metadata": {
        "id": "K0I7k29Qpjfo"
      }
    },
    {
      "cell_type": "markdown",
      "source": [
        "In my global enviroment:\n",
        "\n",
        "a. first_num= 5\n",
        "\n",
        "b. second_num= 3\n",
        "\n",
        "c. result= 9 (because second_num= 4 was specified)\n",
        "\n",
        "d. result_2= 7 (because second_num wasn't specified and second_num= 2 is the default value in our global enviroment)"
      ],
      "metadata": {
        "id": "3-2POn92mVl7"
      }
    }
  ]
}