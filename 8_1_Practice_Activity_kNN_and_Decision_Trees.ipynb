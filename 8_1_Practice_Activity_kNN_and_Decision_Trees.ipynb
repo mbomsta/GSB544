{
  "nbformat": 4,
  "nbformat_minor": 0,
  "metadata": {
    "colab": {
      "provenance": []
    },
    "kernelspec": {
      "name": "python3",
      "display_name": "Python 3"
    },
    "language_info": {
      "name": "python"
    }
  },
  "cells": [
    {
      "cell_type": "code",
      "source": [
        "# To Start\n",
        "import pandas as pd\n",
        "from sklearn.pipeline import Pipeline\n",
        "from sklearn.neighbors import KNeighborsRegressor\n",
        "from sklearn.tree import DecisionTreeRegressor"
      ],
      "metadata": {
        "id": "YtdxQmCLx6G1"
      },
      "execution_count": 1,
      "outputs": []
    },
    {
      "cell_type": "code",
      "source": [
        "!pip install palmerpenguins\n",
        "from palmerpenguins import load_penguins\n",
        "import plotnine\n",
        "from plotnine import *\n",
        "import numpy as np\n",
        "from numpy import *"
      ],
      "metadata": {
        "colab": {
          "base_uri": "https://localhost:8080/"
        },
        "id": "4MpY0uCDyAk3",
        "outputId": "eac687ab-eec5-4c1f-9e10-074ade6821c2"
      },
      "execution_count": 2,
      "outputs": [
        {
          "output_type": "stream",
          "name": "stdout",
          "text": [
            "Collecting palmerpenguins\n",
            "  Downloading palmerpenguins-0.1.4-py3-none-any.whl (17 kB)\n",
            "Requirement already satisfied: pandas in /usr/local/lib/python3.10/dist-packages (from palmerpenguins) (1.5.3)\n",
            "Requirement already satisfied: numpy in /usr/local/lib/python3.10/dist-packages (from palmerpenguins) (1.23.5)\n",
            "Requirement already satisfied: python-dateutil>=2.8.1 in /usr/local/lib/python3.10/dist-packages (from pandas->palmerpenguins) (2.8.2)\n",
            "Requirement already satisfied: pytz>=2020.1 in /usr/local/lib/python3.10/dist-packages (from pandas->palmerpenguins) (2023.3.post1)\n",
            "Requirement already satisfied: six>=1.5 in /usr/local/lib/python3.10/dist-packages (from python-dateutil>=2.8.1->pandas->palmerpenguins) (1.16.0)\n",
            "Installing collected packages: palmerpenguins\n",
            "Successfully installed palmerpenguins-0.1.4\n"
          ]
        }
      ]
    },
    {
      "cell_type": "code",
      "source": [
        "penguins = load_penguins()\n",
        "penguins = penguins.dropna()\n",
        "penguins.head()"
      ],
      "metadata": {
        "colab": {
          "base_uri": "https://localhost:8080/",
          "height": 206
        },
        "id": "8CoTWecWyL6q",
        "outputId": "8a4fb620-511b-43df-a962-a7224a226c75"
      },
      "execution_count": 3,
      "outputs": [
        {
          "output_type": "execute_result",
          "data": {
            "text/plain": [
              "  species     island  bill_length_mm  bill_depth_mm  flipper_length_mm  \\\n",
              "0  Adelie  Torgersen            39.1           18.7              181.0   \n",
              "1  Adelie  Torgersen            39.5           17.4              186.0   \n",
              "2  Adelie  Torgersen            40.3           18.0              195.0   \n",
              "4  Adelie  Torgersen            36.7           19.3              193.0   \n",
              "5  Adelie  Torgersen            39.3           20.6              190.0   \n",
              "\n",
              "   body_mass_g     sex  year  \n",
              "0       3750.0    male  2007  \n",
              "1       3800.0  female  2007  \n",
              "2       3250.0  female  2007  \n",
              "4       3450.0  female  2007  \n",
              "5       3650.0    male  2007  "
            ],
            "text/html": [
              "\n",
              "  <div id=\"df-1ae27789-38cc-4e33-85bc-d9f789182c2f\" class=\"colab-df-container\">\n",
              "    <div>\n",
              "<style scoped>\n",
              "    .dataframe tbody tr th:only-of-type {\n",
              "        vertical-align: middle;\n",
              "    }\n",
              "\n",
              "    .dataframe tbody tr th {\n",
              "        vertical-align: top;\n",
              "    }\n",
              "\n",
              "    .dataframe thead th {\n",
              "        text-align: right;\n",
              "    }\n",
              "</style>\n",
              "<table border=\"1\" class=\"dataframe\">\n",
              "  <thead>\n",
              "    <tr style=\"text-align: right;\">\n",
              "      <th></th>\n",
              "      <th>species</th>\n",
              "      <th>island</th>\n",
              "      <th>bill_length_mm</th>\n",
              "      <th>bill_depth_mm</th>\n",
              "      <th>flipper_length_mm</th>\n",
              "      <th>body_mass_g</th>\n",
              "      <th>sex</th>\n",
              "      <th>year</th>\n",
              "    </tr>\n",
              "  </thead>\n",
              "  <tbody>\n",
              "    <tr>\n",
              "      <th>0</th>\n",
              "      <td>Adelie</td>\n",
              "      <td>Torgersen</td>\n",
              "      <td>39.1</td>\n",
              "      <td>18.7</td>\n",
              "      <td>181.0</td>\n",
              "      <td>3750.0</td>\n",
              "      <td>male</td>\n",
              "      <td>2007</td>\n",
              "    </tr>\n",
              "    <tr>\n",
              "      <th>1</th>\n",
              "      <td>Adelie</td>\n",
              "      <td>Torgersen</td>\n",
              "      <td>39.5</td>\n",
              "      <td>17.4</td>\n",
              "      <td>186.0</td>\n",
              "      <td>3800.0</td>\n",
              "      <td>female</td>\n",
              "      <td>2007</td>\n",
              "    </tr>\n",
              "    <tr>\n",
              "      <th>2</th>\n",
              "      <td>Adelie</td>\n",
              "      <td>Torgersen</td>\n",
              "      <td>40.3</td>\n",
              "      <td>18.0</td>\n",
              "      <td>195.0</td>\n",
              "      <td>3250.0</td>\n",
              "      <td>female</td>\n",
              "      <td>2007</td>\n",
              "    </tr>\n",
              "    <tr>\n",
              "      <th>4</th>\n",
              "      <td>Adelie</td>\n",
              "      <td>Torgersen</td>\n",
              "      <td>36.7</td>\n",
              "      <td>19.3</td>\n",
              "      <td>193.0</td>\n",
              "      <td>3450.0</td>\n",
              "      <td>female</td>\n",
              "      <td>2007</td>\n",
              "    </tr>\n",
              "    <tr>\n",
              "      <th>5</th>\n",
              "      <td>Adelie</td>\n",
              "      <td>Torgersen</td>\n",
              "      <td>39.3</td>\n",
              "      <td>20.6</td>\n",
              "      <td>190.0</td>\n",
              "      <td>3650.0</td>\n",
              "      <td>male</td>\n",
              "      <td>2007</td>\n",
              "    </tr>\n",
              "  </tbody>\n",
              "</table>\n",
              "</div>\n",
              "    <div class=\"colab-df-buttons\">\n",
              "\n",
              "  <div class=\"colab-df-container\">\n",
              "    <button class=\"colab-df-convert\" onclick=\"convertToInteractive('df-1ae27789-38cc-4e33-85bc-d9f789182c2f')\"\n",
              "            title=\"Convert this dataframe to an interactive table.\"\n",
              "            style=\"display:none;\">\n",
              "\n",
              "  <svg xmlns=\"http://www.w3.org/2000/svg\" height=\"24px\" viewBox=\"0 -960 960 960\">\n",
              "    <path d=\"M120-120v-720h720v720H120Zm60-500h600v-160H180v160Zm220 220h160v-160H400v160Zm0 220h160v-160H400v160ZM180-400h160v-160H180v160Zm440 0h160v-160H620v160ZM180-180h160v-160H180v160Zm440 0h160v-160H620v160Z\"/>\n",
              "  </svg>\n",
              "    </button>\n",
              "\n",
              "  <style>\n",
              "    .colab-df-container {\n",
              "      display:flex;\n",
              "      gap: 12px;\n",
              "    }\n",
              "\n",
              "    .colab-df-convert {\n",
              "      background-color: #E8F0FE;\n",
              "      border: none;\n",
              "      border-radius: 50%;\n",
              "      cursor: pointer;\n",
              "      display: none;\n",
              "      fill: #1967D2;\n",
              "      height: 32px;\n",
              "      padding: 0 0 0 0;\n",
              "      width: 32px;\n",
              "    }\n",
              "\n",
              "    .colab-df-convert:hover {\n",
              "      background-color: #E2EBFA;\n",
              "      box-shadow: 0px 1px 2px rgba(60, 64, 67, 0.3), 0px 1px 3px 1px rgba(60, 64, 67, 0.15);\n",
              "      fill: #174EA6;\n",
              "    }\n",
              "\n",
              "    .colab-df-buttons div {\n",
              "      margin-bottom: 4px;\n",
              "    }\n",
              "\n",
              "    [theme=dark] .colab-df-convert {\n",
              "      background-color: #3B4455;\n",
              "      fill: #D2E3FC;\n",
              "    }\n",
              "\n",
              "    [theme=dark] .colab-df-convert:hover {\n",
              "      background-color: #434B5C;\n",
              "      box-shadow: 0px 1px 3px 1px rgba(0, 0, 0, 0.15);\n",
              "      filter: drop-shadow(0px 1px 2px rgba(0, 0, 0, 0.3));\n",
              "      fill: #FFFFFF;\n",
              "    }\n",
              "  </style>\n",
              "\n",
              "    <script>\n",
              "      const buttonEl =\n",
              "        document.querySelector('#df-1ae27789-38cc-4e33-85bc-d9f789182c2f button.colab-df-convert');\n",
              "      buttonEl.style.display =\n",
              "        google.colab.kernel.accessAllowed ? 'block' : 'none';\n",
              "\n",
              "      async function convertToInteractive(key) {\n",
              "        const element = document.querySelector('#df-1ae27789-38cc-4e33-85bc-d9f789182c2f');\n",
              "        const dataTable =\n",
              "          await google.colab.kernel.invokeFunction('convertToInteractive',\n",
              "                                                    [key], {});\n",
              "        if (!dataTable) return;\n",
              "\n",
              "        const docLinkHtml = 'Like what you see? Visit the ' +\n",
              "          '<a target=\"_blank\" href=https://colab.research.google.com/notebooks/data_table.ipynb>data table notebook</a>'\n",
              "          + ' to learn more about interactive tables.';\n",
              "        element.innerHTML = '';\n",
              "        dataTable['output_type'] = 'display_data';\n",
              "        await google.colab.output.renderOutput(dataTable, element);\n",
              "        const docLink = document.createElement('div');\n",
              "        docLink.innerHTML = docLinkHtml;\n",
              "        element.appendChild(docLink);\n",
              "      }\n",
              "    </script>\n",
              "  </div>\n",
              "\n",
              "\n",
              "<div id=\"df-7b9c86d3-b796-47f9-be78-03bdcd7cbdd0\">\n",
              "  <button class=\"colab-df-quickchart\" onclick=\"quickchart('df-7b9c86d3-b796-47f9-be78-03bdcd7cbdd0')\"\n",
              "            title=\"Suggest charts\"\n",
              "            style=\"display:none;\">\n",
              "\n",
              "<svg xmlns=\"http://www.w3.org/2000/svg\" height=\"24px\"viewBox=\"0 0 24 24\"\n",
              "     width=\"24px\">\n",
              "    <g>\n",
              "        <path d=\"M19 3H5c-1.1 0-2 .9-2 2v14c0 1.1.9 2 2 2h14c1.1 0 2-.9 2-2V5c0-1.1-.9-2-2-2zM9 17H7v-7h2v7zm4 0h-2V7h2v10zm4 0h-2v-4h2v4z\"/>\n",
              "    </g>\n",
              "</svg>\n",
              "  </button>\n",
              "\n",
              "<style>\n",
              "  .colab-df-quickchart {\n",
              "      --bg-color: #E8F0FE;\n",
              "      --fill-color: #1967D2;\n",
              "      --hover-bg-color: #E2EBFA;\n",
              "      --hover-fill-color: #174EA6;\n",
              "      --disabled-fill-color: #AAA;\n",
              "      --disabled-bg-color: #DDD;\n",
              "  }\n",
              "\n",
              "  [theme=dark] .colab-df-quickchart {\n",
              "      --bg-color: #3B4455;\n",
              "      --fill-color: #D2E3FC;\n",
              "      --hover-bg-color: #434B5C;\n",
              "      --hover-fill-color: #FFFFFF;\n",
              "      --disabled-bg-color: #3B4455;\n",
              "      --disabled-fill-color: #666;\n",
              "  }\n",
              "\n",
              "  .colab-df-quickchart {\n",
              "    background-color: var(--bg-color);\n",
              "    border: none;\n",
              "    border-radius: 50%;\n",
              "    cursor: pointer;\n",
              "    display: none;\n",
              "    fill: var(--fill-color);\n",
              "    height: 32px;\n",
              "    padding: 0;\n",
              "    width: 32px;\n",
              "  }\n",
              "\n",
              "  .colab-df-quickchart:hover {\n",
              "    background-color: var(--hover-bg-color);\n",
              "    box-shadow: 0 1px 2px rgba(60, 64, 67, 0.3), 0 1px 3px 1px rgba(60, 64, 67, 0.15);\n",
              "    fill: var(--button-hover-fill-color);\n",
              "  }\n",
              "\n",
              "  .colab-df-quickchart-complete:disabled,\n",
              "  .colab-df-quickchart-complete:disabled:hover {\n",
              "    background-color: var(--disabled-bg-color);\n",
              "    fill: var(--disabled-fill-color);\n",
              "    box-shadow: none;\n",
              "  }\n",
              "\n",
              "  .colab-df-spinner {\n",
              "    border: 2px solid var(--fill-color);\n",
              "    border-color: transparent;\n",
              "    border-bottom-color: var(--fill-color);\n",
              "    animation:\n",
              "      spin 1s steps(1) infinite;\n",
              "  }\n",
              "\n",
              "  @keyframes spin {\n",
              "    0% {\n",
              "      border-color: transparent;\n",
              "      border-bottom-color: var(--fill-color);\n",
              "      border-left-color: var(--fill-color);\n",
              "    }\n",
              "    20% {\n",
              "      border-color: transparent;\n",
              "      border-left-color: var(--fill-color);\n",
              "      border-top-color: var(--fill-color);\n",
              "    }\n",
              "    30% {\n",
              "      border-color: transparent;\n",
              "      border-left-color: var(--fill-color);\n",
              "      border-top-color: var(--fill-color);\n",
              "      border-right-color: var(--fill-color);\n",
              "    }\n",
              "    40% {\n",
              "      border-color: transparent;\n",
              "      border-right-color: var(--fill-color);\n",
              "      border-top-color: var(--fill-color);\n",
              "    }\n",
              "    60% {\n",
              "      border-color: transparent;\n",
              "      border-right-color: var(--fill-color);\n",
              "    }\n",
              "    80% {\n",
              "      border-color: transparent;\n",
              "      border-right-color: var(--fill-color);\n",
              "      border-bottom-color: var(--fill-color);\n",
              "    }\n",
              "    90% {\n",
              "      border-color: transparent;\n",
              "      border-bottom-color: var(--fill-color);\n",
              "    }\n",
              "  }\n",
              "</style>\n",
              "\n",
              "  <script>\n",
              "    async function quickchart(key) {\n",
              "      const quickchartButtonEl =\n",
              "        document.querySelector('#' + key + ' button');\n",
              "      quickchartButtonEl.disabled = true;  // To prevent multiple clicks.\n",
              "      quickchartButtonEl.classList.add('colab-df-spinner');\n",
              "      try {\n",
              "        const charts = await google.colab.kernel.invokeFunction(\n",
              "            'suggestCharts', [key], {});\n",
              "      } catch (error) {\n",
              "        console.error('Error during call to suggestCharts:', error);\n",
              "      }\n",
              "      quickchartButtonEl.classList.remove('colab-df-spinner');\n",
              "      quickchartButtonEl.classList.add('colab-df-quickchart-complete');\n",
              "    }\n",
              "    (() => {\n",
              "      let quickchartButtonEl =\n",
              "        document.querySelector('#df-7b9c86d3-b796-47f9-be78-03bdcd7cbdd0 button');\n",
              "      quickchartButtonEl.style.display =\n",
              "        google.colab.kernel.accessAllowed ? 'block' : 'none';\n",
              "    })();\n",
              "  </script>\n",
              "</div>\n",
              "    </div>\n",
              "  </div>\n"
            ]
          },
          "metadata": {},
          "execution_count": 3
        }
      ]
    },
    {
      "cell_type": "markdown",
      "source": [
        "# Palmer Penguins Modeling\n",
        "\n",
        "Import the Palmer Penguins dataset and print out the first few rows.\n",
        "\n",
        "Suppose we want to predict `bill_depth_mm` using the other variables in the dataset.\n",
        "\n",
        "**Dummify** all variables that require this."
      ],
      "metadata": {
        "id": "VeAOZxOcM0Vi"
      }
    },
    {
      "cell_type": "code",
      "source": [
        "import pandas as pd\n",
        "import numpy as np\n",
        "from sklearn.pipeline import Pipeline\n",
        "from sklearn.compose import make_column_selector, ColumnTransformer\n",
        "from sklearn.preprocessing import StandardScaler, OneHotEncoder\n",
        "from sklearn.linear_model import LinearRegression\n",
        "from sklearn.model_selection import train_test_split, cross_val_score\n",
        "from sklearn.metrics import r2_score"
      ],
      "metadata": {
        "id": "-C-x-rFBKEgF"
      },
      "execution_count": 4,
      "outputs": []
    },
    {
      "cell_type": "code",
      "execution_count": 5,
      "metadata": {
        "id": "Bj_0VvPJMWyp"
      },
      "outputs": [],
      "source": [
        "X = penguins.drop([\"bill_depth_mm\"], axis = 1)\n",
        "y= penguins['bill_depth_mm']\n",
        "\n",
        "# a train/test split\n",
        "X_train, X_test, y_train, y_test = train_test_split(X, y, test_size=0.2, random_state=18)\n",
        "\n",
        "# removing year from standardization\n",
        "no_year= X.select_dtypes(include=['float64', 'int']).columns.tolist()\n",
        "no_year.remove('year')\n",
        "\n",
        "enc = OneHotEncoder()\n",
        "\n",
        "ct = ColumnTransformer(\n",
        "    [(\"dummify_s\", enc, ['species']),\n",
        "     (\"dummify_i\", enc, ['island']),\n",
        "     (\"dummify_sex\", enc, ['sex']),\n",
        "     (\"scale\", StandardScaler(), no_year)],\n",
        "    remainder='passthrough'\n",
        ")"
      ]
    },
    {
      "cell_type": "markdown",
      "source": [
        "Let's use the other variables to predict `bill_depth_mm`. Prepare your data and fit the following models on the entire dataset:\n",
        "\n",
        "* Your best multiple linear regression model from before\n",
        "* Two kNN models (for different values of K)\n",
        "* A decision tree model\n",
        "\n",
        "Create a plot like the right plot of Fig 1. in our `Model Validation` chapter with the training and test error plotted for each of your four models.\n",
        "\n",
        "Which of your models was best?"
      ],
      "metadata": {
        "id": "CXmaqajAchqz"
      }
    },
    {
      "cell_type": "code",
      "source": [
        "from sklearn.metrics import mean_squared_error"
      ],
      "metadata": {
        "id": "yft4Enk2WqvF"
      },
      "execution_count": 6,
      "outputs": []
    },
    {
      "cell_type": "markdown",
      "source": [
        "Linear"
      ],
      "metadata": {
        "id": "hsmp7CZ6aJ3p"
      }
    },
    {
      "cell_type": "code",
      "source": [
        "# Linear\n",
        "\n",
        "linear_pipeline = Pipeline([\n",
        "    ('preprocessor', ct),\n",
        "    ('linear_regressor', LinearRegression())\n",
        "])\n",
        "\n",
        "linear_pipeline.fit(X_train, y_train)\n",
        "\n",
        "# Fit and Predict for Linear Regression\n",
        "y_test_preds_lr = linear_pipeline.predict(X_test)\n",
        "\n",
        "mse_lr_train = mean_squared_error(y_train, linear_pipeline.predict(X_train))\n",
        "mse_lr_test = mean_squared_error(y_test, linear_pipeline.predict(X_test))\n",
        "\n",
        "print(f\"Linear Regression MSE train: {mse_lr_train}\")\n",
        "print(f\"Linear Regression MSE test: {mse_lr_test}\")"
      ],
      "metadata": {
        "colab": {
          "base_uri": "https://localhost:8080/"
        },
        "id": "zaqABFEUKsQ4",
        "outputId": "176cb7ba-c403-4804-a700-54c4a1531503"
      },
      "execution_count": 7,
      "outputs": [
        {
          "output_type": "stream",
          "name": "stdout",
          "text": [
            "Linear Regression MSE train: 0.5925746575974323\n",
            "Linear Regression MSE test: 0.6450654288485166\n"
          ]
        }
      ]
    },
    {
      "cell_type": "markdown",
      "source": [
        "kNN"
      ],
      "metadata": {
        "id": "5GZCs1QnaIRa"
      }
    },
    {
      "cell_type": "code",
      "source": [
        "# kNN where k=3\n",
        "\n",
        "knn_pipeline = Pipeline([\n",
        "    ('preprocessor', ct),\n",
        "    ('knn_regressor', KNeighborsRegressor(n_neighbors=3))\n",
        "])\n",
        "\n",
        "# Fit and Predict for kNN\n",
        "knn_pipeline.fit(X_train, y_train)\n",
        "y_test_preds_knn = knn_pipeline.predict(X_test)\n",
        "\n",
        "mse_knn_train = mean_squared_error(y_train, knn_pipeline.predict(X_train))\n",
        "mse_knn_test = mean_squared_error(y_test, knn_pipeline.predict(X_test))\n",
        "\n",
        "print(f\"kNN MSE train: {mse_knn_train}\")\n",
        "print(f\"kNN MSE test: {mse_knn_test}\")"
      ],
      "metadata": {
        "colab": {
          "base_uri": "https://localhost:8080/"
        },
        "id": "TUcKZNiSJcGh",
        "outputId": "b9eda44d-ed25-4ccf-ec26-dd595749453b"
      },
      "execution_count": 8,
      "outputs": [
        {
          "output_type": "stream",
          "name": "stdout",
          "text": [
            "kNN MSE train: 0.37723893065998315\n",
            "kNN MSE test: 0.8166003316749586\n"
          ]
        }
      ]
    },
    {
      "cell_type": "code",
      "source": [
        "# kNN where k=100\n",
        "\n",
        "knn_pipeline2 = Pipeline([\n",
        "    ('preprocessor', ct),\n",
        "    ('knn_regressor', KNeighborsRegressor(n_neighbors=100))\n",
        "])\n",
        "\n",
        "# Fit and Predict for kNN\n",
        "knn_pipeline2.fit(X_train, y_train)\n",
        "y_test_preds_knn2 = knn_pipeline2.predict(X_test)\n",
        "\n",
        "mse_knn_train2 = mean_squared_error(y_train, knn_pipeline2.predict(X_train))\n",
        "mse_knn_test2 = mean_squared_error(y_test, knn_pipeline2.predict(X_test))\n",
        "\n",
        "print(f\"kNN MSE train: {mse_knn_train2}\")\n",
        "print(f\"kNN MSE test: {mse_knn_test2}\")"
      ],
      "metadata": {
        "colab": {
          "base_uri": "https://localhost:8080/"
        },
        "id": "NoXVDrfgJgGP",
        "outputId": "fadf56df-a824-4b97-ac85-24381eee2cfe"
      },
      "execution_count": 9,
      "outputs": [
        {
          "output_type": "stream",
          "name": "stdout",
          "text": [
            "kNN MSE train: 1.4118988947368423\n",
            "kNN MSE test: 1.6407127164179103\n"
          ]
        }
      ]
    },
    {
      "cell_type": "code",
      "source": [
        "# kNN where k=250\n",
        "\n",
        "knn_pipeline3 = Pipeline([\n",
        "    ('preprocessor', ct),\n",
        "    ('knn_regressor', KNeighborsRegressor(n_neighbors=250))\n",
        "])\n",
        "\n",
        "# Fit and Predict for kNN\n",
        "knn_pipeline3.fit(X_train, y_train)\n",
        "y_test_preds_knn3 = knn_pipeline3.predict(X_test)\n",
        "\n",
        "mse_knn_train3 = mean_squared_error(y_train, knn_pipeline3.predict(X_train))\n",
        "mse_knn_test3 = mean_squared_error(y_test, knn_pipeline3.predict(X_test))\n",
        "\n",
        "print(f\"kNN MSE train: {mse_knn_train3}\")\n",
        "print(f\"kNN MSE test: {mse_knn_test3}\")"
      ],
      "metadata": {
        "colab": {
          "base_uri": "https://localhost:8080/"
        },
        "id": "pK9u6-GBau2y",
        "outputId": "e56faf83-3251-4b68-cfe2-16ec47072ac7"
      },
      "execution_count": 10,
      "outputs": [
        {
          "output_type": "stream",
          "name": "stdout",
          "text": [
            "kNN MSE train: 3.652502883007519\n",
            "kNN MSE test: 4.275500293731342\n"
          ]
        }
      ]
    },
    {
      "cell_type": "markdown",
      "source": [
        "Decision Trees"
      ],
      "metadata": {
        "id": "Iq-_6uixaFL9"
      }
    },
    {
      "cell_type": "code",
      "source": [
        "# Decision Tree\n",
        "\n",
        "tree_pipeline = Pipeline([\n",
        "    ('preprocessor', ct),\n",
        "    ('knn_regressor', DecisionTreeRegressor(max_depth=3, random_state=18))\n",
        "])\n",
        "\n",
        "# Fit and Predict for kNN\n",
        "tree_pipeline.fit(X_train, y_train)\n",
        "y_test_preds_tree = tree_pipeline.predict(X_test)\n",
        "\n",
        "mse_dt_train = mean_squared_error(y_train, tree_pipeline.predict(X_train))\n",
        "mse_dt_test = mean_squared_error(y_test, tree_pipeline.predict(X_test))\n",
        "\n",
        "print(f\"Tree MSE train: {mse_dt_train}\")\n",
        "print(f\"Tree MSE test: {mse_dt_test}\")"
      ],
      "metadata": {
        "colab": {
          "base_uri": "https://localhost:8080/"
        },
        "id": "pjrNDY3bKik4",
        "outputId": "8746bf02-3e3f-479e-ad46-5ff50e6dfaa3"
      },
      "execution_count": 11,
      "outputs": [
        {
          "output_type": "stream",
          "name": "stdout",
          "text": [
            "Tree MSE train: 0.5695483553906466\n",
            "Tree MSE test: 0.8151338349721292\n"
          ]
        }
      ]
    },
    {
      "cell_type": "code",
      "source": [
        "# Decision Tree\n",
        "\n",
        "tree_pipeline2 = Pipeline([\n",
        "    ('preprocessor', ct),\n",
        "    ('knn_regressor', DecisionTreeRegressor(max_depth=6, random_state=18))\n",
        "])\n",
        "\n",
        "# Fit and Predict for the Decision Tree\n",
        "tree_pipeline2.fit(X_train, y_train)\n",
        "y_test_preds_tree = tree_pipeline2.predict(X_test)\n",
        "\n",
        "mse_dt_train2 = mean_squared_error(y_train, tree_pipeline2.predict(X_train))\n",
        "mse_dt_test2 = mean_squared_error(y_test, tree_pipeline2.predict(X_test))\n",
        "\n",
        "print(f\"Tree MSE train: {mse_dt_train2}\")\n",
        "print(f\"Tree MSE test: {mse_dt_test2}\")"
      ],
      "metadata": {
        "colab": {
          "base_uri": "https://localhost:8080/"
        },
        "id": "V_Xmnloflnns",
        "outputId": "3ed14adc-e036-4dea-98e6-cebd794b73b8"
      },
      "execution_count": 12,
      "outputs": [
        {
          "output_type": "stream",
          "name": "stdout",
          "text": [
            "Tree MSE train: 0.31860316792922155\n",
            "Tree MSE test: 1.0816084258608951\n"
          ]
        }
      ]
    },
    {
      "cell_type": "code",
      "source": [
        "# Decision Tree\n",
        "\n",
        "tree_pipeline3 = Pipeline([\n",
        "    ('preprocessor', ct),\n",
        "    ('knn_regressor', DecisionTreeRegressor(max_depth=10, random_state=18))\n",
        "])\n",
        "\n",
        "# Fit and Predict for the Decision Tree\n",
        "tree_pipeline3.fit(X_train, y_train)\n",
        "y_test_preds_tree = tree_pipeline3.predict(X_test)\n",
        "\n",
        "mse_dt_train3 = mean_squared_error(y_train, tree_pipeline3.predict(X_train))\n",
        "mse_dt_test3 = mean_squared_error(y_test, tree_pipeline3.predict(X_test))\n",
        "\n",
        "print(f\"Tree MSE train: {mse_dt_train3}\")\n",
        "print(f\"Tree MSE test: {mse_dt_test3}\")"
      ],
      "metadata": {
        "colab": {
          "base_uri": "https://localhost:8080/"
        },
        "id": "YV6fzhQbaeQ2",
        "outputId": "b461901c-00a9-4cba-bdde-cd222bd3c6b4"
      },
      "execution_count": 13,
      "outputs": [
        {
          "output_type": "stream",
          "name": "stdout",
          "text": [
            "Tree MSE train: 0.056414384174722505\n",
            "Tree MSE test: 1.4024570015568418\n"
          ]
        }
      ]
    },
    {
      "cell_type": "markdown",
      "source": [
        "Plot of Complexity"
      ],
      "metadata": {
        "id": "N2L4p1Y8dZT3"
      }
    },
    {
      "cell_type": "code",
      "source": [
        "# Creating the MSE data frame\n",
        "data = pd.DataFrame({\n",
        "    'Model': ['Linear Regression', 'Linear Regression', 'kNN (k=3)', 'kNN (k=3)', 'kNN (k=100)', 'kNN (k=100)', 'kNN (k=250)', 'kNN (k=250)', 'Decision Tree(depth=3)', 'Decision Tree(depth=3)', 'Decision Tree(depth=6)', 'Decision Tree(depth=6)', 'Decision Tree(depth=10)', 'Decision Tree(depth=10)'],\n",
        "    'Error Type': ['Training', 'Test', 'Training', 'Test', 'Training', 'Test', 'Training', 'Test', 'Training', 'Test','Training', 'Test', 'Training', 'Test'],\n",
        "    'MSE': [mse_lr_train, mse_lr_test, mse_knn_train, mse_knn_test, mse_knn_train2, mse_knn_test2, mse_knn_train3, mse_knn_test3, mse_dt_train, mse_dt_test, mse_dt_train2, mse_dt_test2, mse_dt_train3, mse_dt_test3]\n",
        "})\n",
        "\n",
        "plot1 = (ggplot(data=data, mapping=aes(x='Model', y='MSE', color='Error Type'))\n",
        "        + geom_point()\n",
        "        + labs(title=\"Model Complexity\", x=\"Model Complexity\", y=\"Mean Squared Error (MSE)\")\n",
        "        + theme_bw()\n",
        "        + theme(axis_text_x=element_text(angle=45, hjust=1))\n",
        "         )\n",
        "\n",
        "plot1\n"
      ],
      "metadata": {
        "colab": {
          "base_uri": "https://localhost:8080/",
          "height": 515
        },
        "id": "gKJ2mEEPeCLD",
        "outputId": "145f9379-2236-474b-cf01-2ab8e2e3447d"
      },
      "execution_count": 14,
      "outputs": [
        {
          "output_type": "display_data",
          "data": {
            "text/plain": [
              "<Figure size 640x480 with 1 Axes>"
            ],
            "image/png": "[encoded data removed]"
          },
          "metadata": {
            "image/png": {
              "width": 640,
              "height": 480
            }
          }
        },
        {
          "output_type": "execute_result",
          "data": {
            "text/plain": [
              "<Figure Size: (640 x 480)>"
            ]
          },
          "metadata": {},
          "execution_count": 14
        }
      ]
    },
    {
      "cell_type": "markdown",
      "source": [
        "A smaller gap between training and test errors indicates better generalization, while a large gap can indicate overfitting (especially if the training error is much lower). Therefore, according to the plot, Linear Regression, kNN with a smaller k value, and the decision tree with no specific threshold given are overfit. The kNN with a larger k value has a small gap between test and train MSE values so it is better for generalization.\n",
        "\n",
        "The linear regression model appears to be the best predicting model as it both has no overfitting issue and has smaller MSE values."
      ],
      "metadata": {
        "id": "X2E2nYdid42A"
      }
    },
    {
      "cell_type": "markdown",
      "source": [
        "Understanding of Model Complexity\n",
        "- kNN: The complexity in kNN is inversely related to the value of k. A smaller k (like 3) means a more complex model, while a larger k (like 250) means a simpler model.\n",
        "- Decision Tree: Complexity can be related to the depth of the tree. A deeper tree is more complex.\n",
        "- Linear Regression: This model's complexity is typically constant in its basic form since it does not have hyperparameters like k or tree depth that significantly alter its complexity."
      ],
      "metadata": {
        "id": "5FZ5yEbrcpd5"
      }
    }
  ]
}