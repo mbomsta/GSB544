{
  "nbformat": 4,
  "nbformat_minor": 0,
  "metadata": {
    "colab": {
      "provenance": []
    },
    "kernelspec": {
      "name": "python3",
      "display_name": "Python 3"
    },
    "language_info": {
      "name": "python"
    }
  },
  "cells": [
    {
      "cell_type": "code",
      "source": [
        "# To Start\n",
        "# To Start\n",
        "import pandas as pd\n",
        "import numpy as np\n",
        "from sklearn.pipeline import Pipeline\n",
        "from sklearn.neighbors import KNeighborsRegressor\n",
        "from sklearn.linear_model import LogisticRegression\n",
        "from sklearn.tree import DecisionTreeRegressor\n",
        "from sklearn.pipeline import Pipeline\n",
        "from sklearn.compose import make_column_selector, ColumnTransformer\n",
        "from sklearn.preprocessing import StandardScaler, OneHotEncoder\n",
        "from sklearn.linear_model import LinearRegression\n",
        "from sklearn.model_selection import train_test_split, cross_val_score\n",
        "from sklearn.metrics import r2_score, confusion_matrix, mean_squared_error"
      ],
      "metadata": {
        "id": "o7a-wSPv_osc"
      },
      "execution_count": 74,
      "outputs": []
    },
    {
      "cell_type": "code",
      "source": [
        "# import penguins\n",
        "!pip install palmerpenguins\n",
        "from palmerpenguins import load_penguins\n",
        "penguins = load_penguins()\n",
        "penguins = penguins.dropna()"
      ],
      "metadata": {
        "colab": {
          "base_uri": "https://localhost:8080/"
        },
        "id": "YBBRqs9d_wA1",
        "outputId": "a9fd5120-6b92-470b-f495-e0dc27f20412"
      },
      "execution_count": 75,
      "outputs": [
        {
          "output_type": "stream",
          "name": "stdout",
          "text": [
            "Requirement already satisfied: palmerpenguins in /usr/local/lib/python3.10/dist-packages (0.1.4)\n",
            "Requirement already satisfied: pandas in /usr/local/lib/python3.10/dist-packages (from palmerpenguins) (1.5.3)\n",
            "Requirement already satisfied: numpy in /usr/local/lib/python3.10/dist-packages (from palmerpenguins) (1.23.5)\n",
            "Requirement already satisfied: python-dateutil>=2.8.1 in /usr/local/lib/python3.10/dist-packages (from pandas->palmerpenguins) (2.8.2)\n",
            "Requirement already satisfied: pytz>=2020.1 in /usr/local/lib/python3.10/dist-packages (from pandas->palmerpenguins) (2023.3.post1)\n",
            "Requirement already satisfied: six>=1.5 in /usr/local/lib/python3.10/dist-packages (from python-dateutil>=2.8.1->pandas->palmerpenguins) (1.16.0)\n"
          ]
        }
      ]
    },
    {
      "cell_type": "markdown",
      "source": [
        "# Palmer Penguins Modeling\n",
        "\n",
        "Import the Palmer Penguins dataset and print out the first few rows.\n",
        "\n",
        "Suppose we want to predict `species` using the other variables in the dataset.\n",
        "\n",
        "**Dummify** all variables that require this."
      ],
      "metadata": {
        "id": "TxbDFsJARAMD"
      }
    },
    {
      "cell_type": "code",
      "source": [
        "penguins.head()"
      ],
      "metadata": {
        "colab": {
          "base_uri": "https://localhost:8080/",
          "height": 206
        },
        "id": "WKuPuPcr_-UA",
        "outputId": "62b38c31-3f66-4ddd-c737-0c7a055a8437"
      },
      "execution_count": 76,
      "outputs": [
        {
          "output_type": "execute_result",
          "data": {
            "text/plain": [
              "  species     island  bill_length_mm  bill_depth_mm  flipper_length_mm  \\\n",
              "0  Adelie  Torgersen            39.1           18.7              181.0   \n",
              "1  Adelie  Torgersen            39.5           17.4              186.0   \n",
              "2  Adelie  Torgersen            40.3           18.0              195.0   \n",
              "4  Adelie  Torgersen            36.7           19.3              193.0   \n",
              "5  Adelie  Torgersen            39.3           20.6              190.0   \n",
              "\n",
              "   body_mass_g     sex  year  \n",
              "0       3750.0    male  2007  \n",
              "1       3800.0  female  2007  \n",
              "2       3250.0  female  2007  \n",
              "4       3450.0  female  2007  \n",
              "5       3650.0    male  2007  "
            ],
            "text/html": [
              "\n",
              "  <div id=\"df-30ed3f77-3c68-4a31-bce0-ab3b53f23699\" class=\"colab-df-container\">\n",
              "    <div>\n",
              "<style scoped>\n",
              "    .dataframe tbody tr th:only-of-type {\n",
              "        vertical-align: middle;\n",
              "    }\n",
              "\n",
              "    .dataframe tbody tr th {\n",
              "        vertical-align: top;\n",
              "    }\n",
              "\n",
              "    .dataframe thead th {\n",
              "        text-align: right;\n",
              "    }\n",
              "</style>\n",
              "<table border=\"1\" class=\"dataframe\">\n",
              "  <thead>\n",
              "    <tr style=\"text-align: right;\">\n",
              "      <th></th>\n",
              "      <th>species</th>\n",
              "      <th>island</th>\n",
              "      <th>bill_length_mm</th>\n",
              "      <th>bill_depth_mm</th>\n",
              "      <th>flipper_length_mm</th>\n",
              "      <th>body_mass_g</th>\n",
              "      <th>sex</th>\n",
              "      <th>year</th>\n",
              "    </tr>\n",
              "  </thead>\n",
              "  <tbody>\n",
              "    <tr>\n",
              "      <th>0</th>\n",
              "      <td>Adelie</td>\n",
              "      <td>Torgersen</td>\n",
              "      <td>39.1</td>\n",
              "      <td>18.7</td>\n",
              "      <td>181.0</td>\n",
              "      <td>3750.0</td>\n",
              "      <td>male</td>\n",
              "      <td>2007</td>\n",
              "    </tr>\n",
              "    <tr>\n",
              "      <th>1</th>\n",
              "      <td>Adelie</td>\n",
              "      <td>Torgersen</td>\n",
              "      <td>39.5</td>\n",
              "      <td>17.4</td>\n",
              "      <td>186.0</td>\n",
              "      <td>3800.0</td>\n",
              "      <td>female</td>\n",
              "      <td>2007</td>\n",
              "    </tr>\n",
              "    <tr>\n",
              "      <th>2</th>\n",
              "      <td>Adelie</td>\n",
              "      <td>Torgersen</td>\n",
              "      <td>40.3</td>\n",
              "      <td>18.0</td>\n",
              "      <td>195.0</td>\n",
              "      <td>3250.0</td>\n",
              "      <td>female</td>\n",
              "      <td>2007</td>\n",
              "    </tr>\n",
              "    <tr>\n",
              "      <th>4</th>\n",
              "      <td>Adelie</td>\n",
              "      <td>Torgersen</td>\n",
              "      <td>36.7</td>\n",
              "      <td>19.3</td>\n",
              "      <td>193.0</td>\n",
              "      <td>3450.0</td>\n",
              "      <td>female</td>\n",
              "      <td>2007</td>\n",
              "    </tr>\n",
              "    <tr>\n",
              "      <th>5</th>\n",
              "      <td>Adelie</td>\n",
              "      <td>Torgersen</td>\n",
              "      <td>39.3</td>\n",
              "      <td>20.6</td>\n",
              "      <td>190.0</td>\n",
              "      <td>3650.0</td>\n",
              "      <td>male</td>\n",
              "      <td>2007</td>\n",
              "    </tr>\n",
              "  </tbody>\n",
              "</table>\n",
              "</div>\n",
              "    <div class=\"colab-df-buttons\">\n",
              "\n",
              "  <div class=\"colab-df-container\">\n",
              "    <button class=\"colab-df-convert\" onclick=\"convertToInteractive('df-30ed3f77-3c68-4a31-bce0-ab3b53f23699')\"\n",
              "            title=\"Convert this dataframe to an interactive table.\"\n",
              "            style=\"display:none;\">\n",
              "\n",
              "  <svg xmlns=\"http://www.w3.org/2000/svg\" height=\"24px\" viewBox=\"0 -960 960 960\">\n",
              "    <path d=\"M120-120v-720h720v720H120Zm60-500h600v-160H180v160Zm220 220h160v-160H400v160Zm0 220h160v-160H400v160ZM180-400h160v-160H180v160Zm440 0h160v-160H620v160ZM180-180h160v-160H180v160Zm440 0h160v-160H620v160Z\"/>\n",
              "  </svg>\n",
              "    </button>\n",
              "\n",
              "  <style>\n",
              "    .colab-df-container {\n",
              "      display:flex;\n",
              "      gap: 12px;\n",
              "    }\n",
              "\n",
              "    .colab-df-convert {\n",
              "      background-color: #E8F0FE;\n",
              "      border: none;\n",
              "      border-radius: 50%;\n",
              "      cursor: pointer;\n",
              "      display: none;\n",
              "      fill: #1967D2;\n",
              "      height: 32px;\n",
              "      padding: 0 0 0 0;\n",
              "      width: 32px;\n",
              "    }\n",
              "\n",
              "    .colab-df-convert:hover {\n",
              "      background-color: #E2EBFA;\n",
              "      box-shadow: 0px 1px 2px rgba(60, 64, 67, 0.3), 0px 1px 3px 1px rgba(60, 64, 67, 0.15);\n",
              "      fill: #174EA6;\n",
              "    }\n",
              "\n",
              "    .colab-df-buttons div {\n",
              "      margin-bottom: 4px;\n",
              "    }\n",
              "\n",
              "    [theme=dark] .colab-df-convert {\n",
              "      background-color: #3B4455;\n",
              "      fill: #D2E3FC;\n",
              "    }\n",
              "\n",
              "    [theme=dark] .colab-df-convert:hover {\n",
              "      background-color: #434B5C;\n",
              "      box-shadow: 0px 1px 3px 1px rgba(0, 0, 0, 0.15);\n",
              "      filter: drop-shadow(0px 1px 2px rgba(0, 0, 0, 0.3));\n",
              "      fill: #FFFFFF;\n",
              "    }\n",
              "  </style>\n",
              "\n",
              "    <script>\n",
              "      const buttonEl =\n",
              "        document.querySelector('#df-30ed3f77-3c68-4a31-bce0-ab3b53f23699 button.colab-df-convert');\n",
              "      buttonEl.style.display =\n",
              "        google.colab.kernel.accessAllowed ? 'block' : 'none';\n",
              "\n",
              "      async function convertToInteractive(key) {\n",
              "        const element = document.querySelector('#df-30ed3f77-3c68-4a31-bce0-ab3b53f23699');\n",
              "        const dataTable =\n",
              "          await google.colab.kernel.invokeFunction('convertToInteractive',\n",
              "                                                    [key], {});\n",
              "        if (!dataTable) return;\n",
              "\n",
              "        const docLinkHtml = 'Like what you see? Visit the ' +\n",
              "          '<a target=\"_blank\" href=https://colab.research.google.com/notebooks/data_table.ipynb>data table notebook</a>'\n",
              "          + ' to learn more about interactive tables.';\n",
              "        element.innerHTML = '';\n",
              "        dataTable['output_type'] = 'display_data';\n",
              "        await google.colab.output.renderOutput(dataTable, element);\n",
              "        const docLink = document.createElement('div');\n",
              "        docLink.innerHTML = docLinkHtml;\n",
              "        element.appendChild(docLink);\n",
              "      }\n",
              "    </script>\n",
              "  </div>\n",
              "\n",
              "\n",
              "<div id=\"df-3f61bd07-4e15-403b-9b56-a2097b514b68\">\n",
              "  <button class=\"colab-df-quickchart\" onclick=\"quickchart('df-3f61bd07-4e15-403b-9b56-a2097b514b68')\"\n",
              "            title=\"Suggest charts\"\n",
              "            style=\"display:none;\">\n",
              "\n",
              "<svg xmlns=\"http://www.w3.org/2000/svg\" height=\"24px\"viewBox=\"0 0 24 24\"\n",
              "     width=\"24px\">\n",
              "    <g>\n",
              "        <path d=\"M19 3H5c-1.1 0-2 .9-2 2v14c0 1.1.9 2 2 2h14c1.1 0 2-.9 2-2V5c0-1.1-.9-2-2-2zM9 17H7v-7h2v7zm4 0h-2V7h2v10zm4 0h-2v-4h2v4z\"/>\n",
              "    </g>\n",
              "</svg>\n",
              "  </button>\n",
              "\n",
              "<style>\n",
              "  .colab-df-quickchart {\n",
              "      --bg-color: #E8F0FE;\n",
              "      --fill-color: #1967D2;\n",
              "      --hover-bg-color: #E2EBFA;\n",
              "      --hover-fill-color: #174EA6;\n",
              "      --disabled-fill-color: #AAA;\n",
              "      --disabled-bg-color: #DDD;\n",
              "  }\n",
              "\n",
              "  [theme=dark] .colab-df-quickchart {\n",
              "      --bg-color: #3B4455;\n",
              "      --fill-color: #D2E3FC;\n",
              "      --hover-bg-color: #434B5C;\n",
              "      --hover-fill-color: #FFFFFF;\n",
              "      --disabled-bg-color: #3B4455;\n",
              "      --disabled-fill-color: #666;\n",
              "  }\n",
              "\n",
              "  .colab-df-quickchart {\n",
              "    background-color: var(--bg-color);\n",
              "    border: none;\n",
              "    border-radius: 50%;\n",
              "    cursor: pointer;\n",
              "    display: none;\n",
              "    fill: var(--fill-color);\n",
              "    height: 32px;\n",
              "    padding: 0;\n",
              "    width: 32px;\n",
              "  }\n",
              "\n",
              "  .colab-df-quickchart:hover {\n",
              "    background-color: var(--hover-bg-color);\n",
              "    box-shadow: 0 1px 2px rgba(60, 64, 67, 0.3), 0 1px 3px 1px rgba(60, 64, 67, 0.15);\n",
              "    fill: var(--button-hover-fill-color);\n",
              "  }\n",
              "\n",
              "  .colab-df-quickchart-complete:disabled,\n",
              "  .colab-df-quickchart-complete:disabled:hover {\n",
              "    background-color: var(--disabled-bg-color);\n",
              "    fill: var(--disabled-fill-color);\n",
              "    box-shadow: none;\n",
              "  }\n",
              "\n",
              "  .colab-df-spinner {\n",
              "    border: 2px solid var(--fill-color);\n",
              "    border-color: transparent;\n",
              "    border-bottom-color: var(--fill-color);\n",
              "    animation:\n",
              "      spin 1s steps(1) infinite;\n",
              "  }\n",
              "\n",
              "  @keyframes spin {\n",
              "    0% {\n",
              "      border-color: transparent;\n",
              "      border-bottom-color: var(--fill-color);\n",
              "      border-left-color: var(--fill-color);\n",
              "    }\n",
              "    20% {\n",
              "      border-color: transparent;\n",
              "      border-left-color: var(--fill-color);\n",
              "      border-top-color: var(--fill-color);\n",
              "    }\n",
              "    30% {\n",
              "      border-color: transparent;\n",
              "      border-left-color: var(--fill-color);\n",
              "      border-top-color: var(--fill-color);\n",
              "      border-right-color: var(--fill-color);\n",
              "    }\n",
              "    40% {\n",
              "      border-color: transparent;\n",
              "      border-right-color: var(--fill-color);\n",
              "      border-top-color: var(--fill-color);\n",
              "    }\n",
              "    60% {\n",
              "      border-color: transparent;\n",
              "      border-right-color: var(--fill-color);\n",
              "    }\n",
              "    80% {\n",
              "      border-color: transparent;\n",
              "      border-right-color: var(--fill-color);\n",
              "      border-bottom-color: var(--fill-color);\n",
              "    }\n",
              "    90% {\n",
              "      border-color: transparent;\n",
              "      border-bottom-color: var(--fill-color);\n",
              "    }\n",
              "  }\n",
              "</style>\n",
              "\n",
              "  <script>\n",
              "    async function quickchart(key) {\n",
              "      const quickchartButtonEl =\n",
              "        document.querySelector('#' + key + ' button');\n",
              "      quickchartButtonEl.disabled = true;  // To prevent multiple clicks.\n",
              "      quickchartButtonEl.classList.add('colab-df-spinner');\n",
              "      try {\n",
              "        const charts = await google.colab.kernel.invokeFunction(\n",
              "            'suggestCharts', [key], {});\n",
              "      } catch (error) {\n",
              "        console.error('Error during call to suggestCharts:', error);\n",
              "      }\n",
              "      quickchartButtonEl.classList.remove('colab-df-spinner');\n",
              "      quickchartButtonEl.classList.add('colab-df-quickchart-complete');\n",
              "    }\n",
              "    (() => {\n",
              "      let quickchartButtonEl =\n",
              "        document.querySelector('#df-3f61bd07-4e15-403b-9b56-a2097b514b68 button');\n",
              "      quickchartButtonEl.style.display =\n",
              "        google.colab.kernel.accessAllowed ? 'block' : 'none';\n",
              "    })();\n",
              "  </script>\n",
              "</div>\n",
              "    </div>\n",
              "  </div>\n"
            ]
          },
          "metadata": {},
          "execution_count": 76
        }
      ]
    },
    {
      "cell_type": "markdown",
      "source": [
        "Let's use the other variables to predict `species`. Prepare your data and fit the following models on the entire dataset:\n",
        "\n",
        "* Two kNN models (for different values of K)\n",
        "* Two decision tree models (for different complexities of trees)\n",
        "\n",
        "Compute the following, for each of your models, on test data. Keep in mind that you may need to stratify your creation of the training and test data.\n",
        "\n",
        "* Confusion matrix\n",
        "* Overall Accuracy\n",
        "* Precision, Recall, AUC, and F1-score for each species\n",
        "\n",
        "Create one ROC plot for the species of your choice."
      ],
      "metadata": {
        "id": "HecNBVAnRHod"
      }
    },
    {
      "cell_type": "code",
      "source": [
        "from sklearn.metrics import precision_score, recall_score, f1_score, roc_auc_score, accuracy_score, classification_report\n",
        "from sklearn.neighbors import KNeighborsClassifier\n",
        "from sklearn.tree import DecisionTreeClassifier"
      ],
      "metadata": {
        "id": "BB3ntqMtEJZX"
      },
      "execution_count": 77,
      "outputs": []
    },
    {
      "cell_type": "code",
      "source": [
        "X = penguins.drop([\"species\"], axis = 1)\n",
        "y = penguins[\"species\"]\n",
        "\n",
        "# good to use dtype to see which columns are Objects\n",
        "ct = ColumnTransformer(\n",
        "  [\n",
        "    (\"dummify\",\n",
        "    OneHotEncoder(sparse_output = False),\n",
        "    make_column_selector(dtype_include=object)),\n",
        "    (\"standardize\",\n",
        "    StandardScaler(),\n",
        "    make_column_selector(dtype_include=np.number))\n",
        "  ],\n",
        "  remainder = \"passthrough\"\n",
        ")\n",
        "\n",
        "X_train, X_test, y_train, y_test = train_test_split(X, y, test_size=0.2, stratify=y)"
      ],
      "metadata": {
        "id": "dPfWZS46NcOB"
      },
      "execution_count": 78,
      "outputs": []
    },
    {
      "cell_type": "markdown",
      "source": [
        "Adelie, Chinstrap, Gentoo when looking at confusion matrix"
      ],
      "metadata": {
        "id": "G5uB4bI06_lN"
      }
    },
    {
      "cell_type": "code",
      "source": [
        "# kNN 1\n",
        "knn_pipeline1 = Pipeline([\n",
        "    ('preprocessor', ct),\n",
        "    ('knn_regressor', KNeighborsClassifier(n_neighbors=3))\n",
        "])\n",
        "\n",
        "# Confusion Matrix\n",
        "model = knn_pipeline1.fit(X_train, y_train)\n",
        "y_pred = knn_pipeline1.predict(X_test)\n",
        "\n",
        "cm = confusion_matrix(y_test, y_pred)\n",
        "print(cm)\n",
        "\n",
        "# Overall Accuracy\n",
        "overall = accuracy_score(y_test, y_pred)\n",
        "print(overall)\n",
        "\n",
        "# roc\n",
        "penguin_prob = model.predict_proba(X_test)\n",
        "roc = roc_auc_score(y_test, penguin_prob, multi_class='ovr')\n",
        "print(roc)"
      ],
      "metadata": {
        "id": "U1onRGJQR8T_",
        "colab": {
          "base_uri": "https://localhost:8080/"
        },
        "outputId": "9538ee29-4e6f-46ed-9437-d6ea5a7aaddd"
      },
      "execution_count": 79,
      "outputs": [
        {
          "output_type": "stream",
          "name": "stdout",
          "text": [
            "[[29  0  0]\n",
            " [ 0 14  0]\n",
            " [ 0  0 24]]\n",
            "1.0\n",
            "1.0\n"
          ]
        }
      ]
    },
    {
      "cell_type": "code",
      "source": [
        "# precision, recall, f1\n",
        "classification = classification_report(y_test, y_pred)\n",
        "\n",
        "print(classification)"
      ],
      "metadata": {
        "colab": {
          "base_uri": "https://localhost:8080/"
        },
        "id": "4WJHN48UVoA2",
        "outputId": "7813c7e5-503a-488c-8734-bd3d0124e49a"
      },
      "execution_count": 80,
      "outputs": [
        {
          "output_type": "stream",
          "name": "stdout",
          "text": [
            "              precision    recall  f1-score   support\n",
            "\n",
            "      Adelie       1.00      1.00      1.00        29\n",
            "   Chinstrap       1.00      1.00      1.00        14\n",
            "      Gentoo       1.00      1.00      1.00        24\n",
            "\n",
            "    accuracy                           1.00        67\n",
            "   macro avg       1.00      1.00      1.00        67\n",
            "weighted avg       1.00      1.00      1.00        67\n",
            "\n"
          ]
        }
      ]
    },
    {
      "cell_type": "code",
      "source": [
        "# kNN 2\n",
        "knn_pipeline2 = Pipeline([\n",
        "    ('preprocessor', ct),\n",
        "    ('knn_regressor', KNeighborsClassifier(n_neighbors=200))\n",
        "])\n",
        "\n",
        "# Confusion Matrix\n",
        "model2 = knn_pipeline2.fit(X_train, y_train)\n",
        "y_pred2 = knn_pipeline2.predict(X_test)\n",
        "\n",
        "cm = confusion_matrix(y_test, y_pred2)\n",
        "print(cm)\n",
        "\n",
        "# Overall Accuracy\n",
        "overall = accuracy_score(y_test, y_pred2)\n",
        "print(overall)\n",
        "\n",
        "# roc\n",
        "penguin_prob2 = model2.predict_proba(X_test)\n",
        "roc2 = roc_auc_score(y_test, penguin_prob2, multi_class='ovr')\n",
        "print(roc2)"
      ],
      "metadata": {
        "colab": {
          "base_uri": "https://localhost:8080/"
        },
        "id": "E4nq3LL5Amdr",
        "outputId": "5526f9de-5688-49ed-c93b-0a73cac12e2a"
      },
      "execution_count": 81,
      "outputs": [
        {
          "output_type": "stream",
          "name": "stdout",
          "text": [
            "[[29  0  0]\n",
            " [14  0  0]\n",
            " [ 0  0 24]]\n",
            "0.7910447761194029\n",
            "0.9703088234574726\n"
          ]
        }
      ]
    },
    {
      "cell_type": "code",
      "source": [
        "# precision, recall, f1\n",
        "classification2 = classification_report(y_test, y_pred)\n",
        "\n",
        "print(classification2)"
      ],
      "metadata": {
        "colab": {
          "base_uri": "https://localhost:8080/"
        },
        "id": "3g82_hn7e2in",
        "outputId": "d0d5801c-b96e-48f2-91f9-a03f37783876"
      },
      "execution_count": 82,
      "outputs": [
        {
          "output_type": "stream",
          "name": "stdout",
          "text": [
            "              precision    recall  f1-score   support\n",
            "\n",
            "      Adelie       1.00      1.00      1.00        29\n",
            "   Chinstrap       1.00      1.00      1.00        14\n",
            "      Gentoo       1.00      1.00      1.00        24\n",
            "\n",
            "    accuracy                           1.00        67\n",
            "   macro avg       1.00      1.00      1.00        67\n",
            "weighted avg       1.00      1.00      1.00        67\n",
            "\n"
          ]
        }
      ]
    },
    {
      "cell_type": "code",
      "source": [
        "# Decision Tree 1\n",
        "tree_pipeline1 = Pipeline([\n",
        "    ('preprocessor', ct),\n",
        "    ('knn_regressor', DecisionTreeClassifier(max_depth=3, random_state=18))\n",
        "])\n",
        "\n",
        "# Confusion Matrix\n",
        "model3 = tree_pipeline1.fit(X_train, y_train)\n",
        "y_pred3 = tree_pipeline1.predict(X_test)\n",
        "\n",
        "cm = confusion_matrix(y_test, y_pred3)\n",
        "print(cm)\n",
        "\n",
        "# Overall Accuracy\n",
        "overall = accuracy_score(y_test, y_pred3)\n",
        "print(overall)\n",
        "\n",
        "# roc\n",
        "penguin_prob3 = model3.predict_proba(X_test)\n",
        "roc3 = roc_auc_score(y_test, penguin_prob3, multi_class='ovr')\n",
        "print(roc3)"
      ],
      "metadata": {
        "colab": {
          "base_uri": "https://localhost:8080/"
        },
        "id": "It-FaAcqAny8",
        "outputId": "84d753ba-55d7-4683-a26a-1b2675729651"
      },
      "execution_count": 83,
      "outputs": [
        {
          "output_type": "stream",
          "name": "stdout",
          "text": [
            "[[29  0  0]\n",
            " [ 1 13  0]\n",
            " [ 0  0 24]]\n",
            "0.9850746268656716\n",
            "0.9988724250443938\n"
          ]
        }
      ]
    },
    {
      "cell_type": "code",
      "source": [
        "# precision, recall, f1\n",
        "classification3 = classification_report(y_test, y_pred)\n",
        "\n",
        "print(classification3)"
      ],
      "metadata": {
        "colab": {
          "base_uri": "https://localhost:8080/"
        },
        "id": "rVuxwBy9fH_b",
        "outputId": "d84a6919-27c3-411e-f54c-9bf5fbfc9f6c"
      },
      "execution_count": 84,
      "outputs": [
        {
          "output_type": "stream",
          "name": "stdout",
          "text": [
            "              precision    recall  f1-score   support\n",
            "\n",
            "      Adelie       1.00      1.00      1.00        29\n",
            "   Chinstrap       1.00      1.00      1.00        14\n",
            "      Gentoo       1.00      1.00      1.00        24\n",
            "\n",
            "    accuracy                           1.00        67\n",
            "   macro avg       1.00      1.00      1.00        67\n",
            "weighted avg       1.00      1.00      1.00        67\n",
            "\n"
          ]
        }
      ]
    },
    {
      "cell_type": "code",
      "source": [
        "# Decision Tree 2\n",
        "tree_pipeline2 = Pipeline([\n",
        "    ('preprocessor', ct),\n",
        "    ('knn_regressor', DecisionTreeClassifier(max_depth=8, random_state=18))\n",
        "])\n",
        "\n",
        "# Confusion Matrix\n",
        "model4 = tree_pipeline2.fit(X_train, y_train)\n",
        "y_pred4 = tree_pipeline2.predict(X_test)\n",
        "\n",
        "cm = confusion_matrix(y_test, y_pred4)\n",
        "print(cm)\n",
        "\n",
        "# Overall Accuracy\n",
        "overall = accuracy_score(y_test, y_pred4)\n",
        "print(overall)\n",
        "\n",
        "# roc\n",
        "penguin_prob4 = model4.predict_proba(X_test)\n",
        "roc4 = roc_auc_score(y_test, penguin_prob4, multi_class='ovr')\n",
        "print(roc4)"
      ],
      "metadata": {
        "colab": {
          "base_uri": "https://localhost:8080/"
        },
        "id": "2D9yvlH5Appt",
        "outputId": "eac2cb12-04e3-4c70-ac15-ab228bef52d0"
      },
      "execution_count": 85,
      "outputs": [
        {
          "output_type": "stream",
          "name": "stdout",
          "text": [
            "[[28  1  0]\n",
            " [ 1 13  0]\n",
            " [ 0  0 24]]\n",
            "0.9701492537313433\n",
            "0.9748174926581256\n"
          ]
        }
      ]
    },
    {
      "cell_type": "code",
      "source": [
        "# precision, recall, f1\n",
        "classification4 = classification_report(y_test, y_pred4)\n",
        "\n",
        "print(classification4)"
      ],
      "metadata": {
        "colab": {
          "base_uri": "https://localhost:8080/"
        },
        "id": "vZcb7COBfQaz",
        "outputId": "bc957069-2c66-4bd0-c05f-5a56f535544d"
      },
      "execution_count": 86,
      "outputs": [
        {
          "output_type": "stream",
          "name": "stdout",
          "text": [
            "              precision    recall  f1-score   support\n",
            "\n",
            "      Adelie       0.97      0.97      0.97        29\n",
            "   Chinstrap       0.93      0.93      0.93        14\n",
            "      Gentoo       1.00      1.00      1.00        24\n",
            "\n",
            "    accuracy                           0.97        67\n",
            "   macro avg       0.96      0.96      0.96        67\n",
            "weighted avg       0.97      0.97      0.97        67\n",
            "\n"
          ]
        }
      ]
    },
    {
      "cell_type": "markdown",
      "source": [
        "ROC Plot: Adelie Penguins"
      ],
      "metadata": {
        "id": "dbvUUQ1EoJM2"
      }
    },
    {
      "cell_type": "code",
      "source": [
        "from sklearn.preprocessing import label_binarize\n",
        "from sklearn.metrics import roc_curve\n",
        "from plotnine import *\n",
        "\n",
        "class_names = ['Adelie','Chinstrap', 'Gentoo']\n",
        "# Binarize y_test for the Adelies\n",
        "y_test_binarized = label_binarize(y_test, classes=class_names)[:, class_names.index('Adelie')]\n",
        "\n",
        "# Predict probabilities for the Adelies\n",
        "y_test_pred_proba = model.predict_proba(X_test)[:, class_names.index('Adelie')]\n",
        "\n",
        "# Calculate ROC curve metrics for the Adelies\n",
        "fpr, tpr, thresholds_ = roc_curve(y_test_binarized, y_test_pred_proba)\n",
        "\n",
        "\n",
        "roc_df = pd.DataFrame({\n",
        "    'False Positive Rate': fpr,\n",
        "    'True Positive Rate': tpr\n",
        "})\n",
        "\n",
        "# Create ROC plot\n",
        "roc_plot = (\n",
        "    ggplot(roc_df, aes(x='False Positive Rate', y='True Positive Rate'))\n",
        "    + geom_line(color=\"blue\")\n",
        "    + geom_abline(linetype='dashed')\n",
        "    + labs(title='ROC Curve for Adelie (kNN classification, k=3)', x='False Positive Rate', y='True Positive Rate')\n",
        "    + theme_bw()\n",
        ")\n",
        "\n",
        "roc_plot"
      ],
      "metadata": {
        "colab": {
          "base_uri": "https://localhost:8080/",
          "height": 515
        },
        "id": "E3az3SHF1IgR",
        "outputId": "c9254980-4e0e-486d-b491-19086724bc8e"
      },
      "execution_count": 87,
      "outputs": [
        {
          "output_type": "display_data",
          "data": {
            "text/plain": [
              "<Figure size 640x480 with 1 Axes>"
            ],
            "image/png": "[encoded data removed]"
          },
          "metadata": {
            "image/png": {
              "width": 640,
              "height": 480
            }
          }
        },
        {
          "output_type": "execute_result",
          "data": {
            "text/plain": [
              "<Figure Size: (640 x 480)>"
            ]
          },
          "metadata": {},
          "execution_count": 87
        }
      ]
    }
  ]
}